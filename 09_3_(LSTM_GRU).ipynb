{
  "nbformat": 4,
  "nbformat_minor": 0,
  "metadata": {
    "colab": {
      "name": "09_3_(LSTM_GRU).ipynb",
      "provenance": [],
      "collapsed_sections": []
    },
    "kernelspec": {
      "name": "python3",
      "display_name": "Python 3"
    },
    "language_info": {
      "name": "python"
    }
  },
  "cells": [
    {
      "cell_type": "code",
      "execution_count": 1,
      "metadata": {
        "colab": {
          "base_uri": "https://localhost:8080/"
        },
        "id": "RiYEHM21n7fV",
        "outputId": "1f95c9e6-ded5-4f7e-9fb2-0287863420a3"
      },
      "outputs": [
        {
          "output_type": "stream",
          "name": "stdout",
          "text": [
            "Downloading data from https://storage.googleapis.com/tensorflow/tf-keras-datasets/imdb.npz\n",
            "17465344/17464789 [==============================] - 0s 0us/step\n",
            "17473536/17464789 [==============================] - 0s 0us/step\n"
          ]
        }
      ],
      "source": [
        "from tensorflow.keras.datasets import imdb\n",
        "from sklearn.model_selection import train_test_split\n",
        "(train_input, train_target), (test_input, test_target) = imdb.load_data(num_words=500)\n",
        "train_input, val_input, train_target, val_target = train_test_split(train_input, train_target, test_size=0.2, random_state=42)"
      ]
    },
    {
      "cell_type": "code",
      "source": [
        "from tensorflow.keras.preprocessing.sequence import pad_sequences\n",
        "train_seq = pad_sequences(train_input, maxlen=100)\n",
        "val_seq = pad_sequences(val_input, maxlen=100)"
      ],
      "metadata": {
        "id": "BfIoBhnFpubE"
      },
      "execution_count": 2,
      "outputs": []
    },
    {
      "cell_type": "code",
      "source": [
        "# LSTM 셀을 사용한 순환층\n",
        "from tensorflow import keras\n",
        "model = keras.Sequential()\n",
        "model.add(keras.layers.Embedding(500, 16, input_length=100))\n",
        "model.add(keras.layers.LSTM(8))\n",
        "model.add(keras.layers.Dense(1, activation='sigmoid'))"
      ],
      "metadata": {
        "id": "WCJFG2KuqFmF"
      },
      "execution_count": 3,
      "outputs": []
    },
    {
      "cell_type": "code",
      "source": [
        "model.summary()"
      ],
      "metadata": {
        "colab": {
          "base_uri": "https://localhost:8080/"
        },
        "id": "lvvHFaImqvWP",
        "outputId": "efb33ade-c8a1-4160-cb36-112cb31d7c64"
      },
      "execution_count": 4,
      "outputs": [
        {
          "output_type": "stream",
          "name": "stdout",
          "text": [
            "Model: \"sequential\"\n",
            "_________________________________________________________________\n",
            " Layer (type)                Output Shape              Param #   \n",
            "=================================================================\n",
            " embedding (Embedding)       (None, 100, 16)           8000      \n",
            "                                                                 \n",
            " lstm (LSTM)                 (None, 8)                 800       \n",
            "                                                                 \n",
            " dense (Dense)               (None, 1)                 9         \n",
            "                                                                 \n",
            "=================================================================\n",
            "Total params: 8,809\n",
            "Trainable params: 8,809\n",
            "Non-trainable params: 0\n",
            "_________________________________________________________________\n"
          ]
        }
      ]
    },
    {
      "cell_type": "code",
      "source": [
        "rmsprop = keras.optimizers.RMSprop(learning_rate=1e-4)\n",
        "\n",
        "model.compile(optimizer=rmsprop, loss='binary_crossentropy', metrics=['accuracy'])\n",
        "checkpoint_cb = keras.callbacks.ModelCheckpoint('best-lstm-model.h5')\n",
        "early_stopping_cb = keras.callbacks.EarlyStopping(patience=3, restore_best_weights=True)\n",
        "\n",
        "history = model.fit(train_seq, train_target, epochs=100, batch_size=64,\n",
        "                    validation_data=(val_seq, val_target),\n",
        "                    callbacks=[checkpoint_cb, early_stopping_cb])"
      ],
      "metadata": {
        "colab": {
          "base_uri": "https://localhost:8080/"
        },
        "id": "acEd2ujbrAbj",
        "outputId": "51bfa316-f30e-4551-f1a2-59ce7228834e"
      },
      "execution_count": 5,
      "outputs": [
        {
          "output_type": "stream",
          "name": "stdout",
          "text": [
            "Epoch 1/100\n",
            "313/313 [==============================] - 15s 40ms/step - loss: 0.6922 - accuracy: 0.5508 - val_loss: 0.6914 - val_accuracy: 0.5946\n",
            "Epoch 2/100\n",
            "313/313 [==============================] - 13s 41ms/step - loss: 0.6900 - accuracy: 0.6120 - val_loss: 0.6883 - val_accuracy: 0.6226\n",
            "Epoch 3/100\n",
            "313/313 [==============================] - 21s 67ms/step - loss: 0.6854 - accuracy: 0.6326 - val_loss: 0.6816 - val_accuracy: 0.6430\n",
            "Epoch 4/100\n",
            "313/313 [==============================] - 21s 68ms/step - loss: 0.6727 - accuracy: 0.6463 - val_loss: 0.6553 - val_accuracy: 0.6432\n",
            "Epoch 5/100\n",
            "313/313 [==============================] - 22s 70ms/step - loss: 0.6228 - accuracy: 0.6795 - val_loss: 0.5951 - val_accuracy: 0.7216\n",
            "Epoch 6/100\n",
            "313/313 [==============================] - 15s 47ms/step - loss: 0.5768 - accuracy: 0.7432 - val_loss: 0.5670 - val_accuracy: 0.7438\n",
            "Epoch 7/100\n",
            "313/313 [==============================] - 12s 38ms/step - loss: 0.5508 - accuracy: 0.7544 - val_loss: 0.5469 - val_accuracy: 0.7426\n",
            "Epoch 8/100\n",
            "313/313 [==============================] - 12s 38ms/step - loss: 0.5320 - accuracy: 0.7630 - val_loss: 0.5303 - val_accuracy: 0.7580\n",
            "Epoch 9/100\n",
            "313/313 [==============================] - 12s 39ms/step - loss: 0.5138 - accuracy: 0.7707 - val_loss: 0.5158 - val_accuracy: 0.7620\n",
            "Epoch 10/100\n",
            "313/313 [==============================] - 12s 38ms/step - loss: 0.4985 - accuracy: 0.7776 - val_loss: 0.5080 - val_accuracy: 0.7622\n",
            "Epoch 11/100\n",
            "313/313 [==============================] - 12s 38ms/step - loss: 0.4850 - accuracy: 0.7859 - val_loss: 0.4925 - val_accuracy: 0.7730\n",
            "Epoch 12/100\n",
            "313/313 [==============================] - 12s 38ms/step - loss: 0.4738 - accuracy: 0.7908 - val_loss: 0.4844 - val_accuracy: 0.7768\n",
            "Epoch 13/100\n",
            "313/313 [==============================] - 13s 40ms/step - loss: 0.4645 - accuracy: 0.7947 - val_loss: 0.4749 - val_accuracy: 0.7820\n",
            "Epoch 14/100\n",
            "313/313 [==============================] - 12s 39ms/step - loss: 0.4568 - accuracy: 0.7980 - val_loss: 0.4691 - val_accuracy: 0.7810\n",
            "Epoch 15/100\n",
            "313/313 [==============================] - 12s 38ms/step - loss: 0.4509 - accuracy: 0.8013 - val_loss: 0.4639 - val_accuracy: 0.7860\n",
            "Epoch 16/100\n",
            "313/313 [==============================] - 12s 38ms/step - loss: 0.4456 - accuracy: 0.8043 - val_loss: 0.4601 - val_accuracy: 0.7872\n",
            "Epoch 17/100\n",
            "313/313 [==============================] - 12s 38ms/step - loss: 0.4405 - accuracy: 0.8060 - val_loss: 0.4580 - val_accuracy: 0.7872\n",
            "Epoch 18/100\n",
            "313/313 [==============================] - 13s 40ms/step - loss: 0.4367 - accuracy: 0.8062 - val_loss: 0.4550 - val_accuracy: 0.7892\n",
            "Epoch 19/100\n",
            "313/313 [==============================] - 12s 39ms/step - loss: 0.4335 - accuracy: 0.8075 - val_loss: 0.4535 - val_accuracy: 0.7902\n",
            "Epoch 20/100\n",
            "313/313 [==============================] - 12s 39ms/step - loss: 0.4307 - accuracy: 0.8080 - val_loss: 0.4518 - val_accuracy: 0.7898\n",
            "Epoch 21/100\n",
            "313/313 [==============================] - 13s 40ms/step - loss: 0.4278 - accuracy: 0.8106 - val_loss: 0.4506 - val_accuracy: 0.7904\n",
            "Epoch 22/100\n",
            "313/313 [==============================] - 12s 38ms/step - loss: 0.4259 - accuracy: 0.8102 - val_loss: 0.4490 - val_accuracy: 0.7878\n",
            "Epoch 23/100\n",
            "313/313 [==============================] - 12s 38ms/step - loss: 0.4239 - accuracy: 0.8120 - val_loss: 0.4456 - val_accuracy: 0.7928\n",
            "Epoch 24/100\n",
            "313/313 [==============================] - 12s 39ms/step - loss: 0.4221 - accuracy: 0.8123 - val_loss: 0.4456 - val_accuracy: 0.7912\n",
            "Epoch 25/100\n",
            "313/313 [==============================] - 12s 40ms/step - loss: 0.4203 - accuracy: 0.8134 - val_loss: 0.4435 - val_accuracy: 0.7934\n",
            "Epoch 26/100\n",
            "313/313 [==============================] - 12s 39ms/step - loss: 0.4191 - accuracy: 0.8135 - val_loss: 0.4442 - val_accuracy: 0.7940\n",
            "Epoch 27/100\n",
            "313/313 [==============================] - 12s 39ms/step - loss: 0.4177 - accuracy: 0.8152 - val_loss: 0.4424 - val_accuracy: 0.7938\n",
            "Epoch 28/100\n",
            "313/313 [==============================] - 12s 39ms/step - loss: 0.4166 - accuracy: 0.8148 - val_loss: 0.4407 - val_accuracy: 0.7948\n",
            "Epoch 29/100\n",
            "313/313 [==============================] - 12s 38ms/step - loss: 0.4152 - accuracy: 0.8146 - val_loss: 0.4454 - val_accuracy: 0.7882\n",
            "Epoch 30/100\n",
            "313/313 [==============================] - 12s 39ms/step - loss: 0.4141 - accuracy: 0.8166 - val_loss: 0.4404 - val_accuracy: 0.7982\n",
            "Epoch 31/100\n",
            "313/313 [==============================] - 12s 38ms/step - loss: 0.4131 - accuracy: 0.8163 - val_loss: 0.4400 - val_accuracy: 0.7944\n",
            "Epoch 32/100\n",
            "313/313 [==============================] - 12s 38ms/step - loss: 0.4125 - accuracy: 0.8163 - val_loss: 0.4397 - val_accuracy: 0.7984\n",
            "Epoch 33/100\n",
            "313/313 [==============================] - 12s 39ms/step - loss: 0.4115 - accuracy: 0.8151 - val_loss: 0.4445 - val_accuracy: 0.7938\n",
            "Epoch 34/100\n",
            "313/313 [==============================] - 12s 39ms/step - loss: 0.4108 - accuracy: 0.8168 - val_loss: 0.4380 - val_accuracy: 0.7984\n",
            "Epoch 35/100\n",
            "313/313 [==============================] - 17s 54ms/step - loss: 0.4103 - accuracy: 0.8155 - val_loss: 0.4382 - val_accuracy: 0.7982\n",
            "Epoch 36/100\n",
            "313/313 [==============================] - 16s 50ms/step - loss: 0.4095 - accuracy: 0.8161 - val_loss: 0.4366 - val_accuracy: 0.7986\n",
            "Epoch 37/100\n",
            "313/313 [==============================] - 16s 50ms/step - loss: 0.4084 - accuracy: 0.8170 - val_loss: 0.4446 - val_accuracy: 0.7900\n",
            "Epoch 38/100\n",
            "313/313 [==============================] - 13s 43ms/step - loss: 0.4082 - accuracy: 0.8158 - val_loss: 0.4365 - val_accuracy: 0.7974\n",
            "Epoch 39/100\n",
            "313/313 [==============================] - 13s 41ms/step - loss: 0.4072 - accuracy: 0.8162 - val_loss: 0.4352 - val_accuracy: 0.7966\n",
            "Epoch 40/100\n",
            "313/313 [==============================] - 14s 46ms/step - loss: 0.4074 - accuracy: 0.8154 - val_loss: 0.4349 - val_accuracy: 0.7972\n",
            "Epoch 41/100\n",
            "313/313 [==============================] - 13s 43ms/step - loss: 0.4066 - accuracy: 0.8164 - val_loss: 0.4351 - val_accuracy: 0.7980\n",
            "Epoch 42/100\n",
            "313/313 [==============================] - 13s 40ms/step - loss: 0.4060 - accuracy: 0.8177 - val_loss: 0.4396 - val_accuracy: 0.7952\n",
            "Epoch 43/100\n",
            "313/313 [==============================] - 12s 39ms/step - loss: 0.4058 - accuracy: 0.8163 - val_loss: 0.4377 - val_accuracy: 0.7952\n"
          ]
        }
      ]
    },
    {
      "cell_type": "code",
      "source": [
        "import matplotlib.pyplot as plt\n",
        "plt.plot(history.history['loss'])\n",
        "plt.plot(history.history['val_loss'])\n",
        "plt.xlabel('epoch')\n",
        "plt.ylabel('loss')\n",
        "plt.legend(['train', 'val'])\n",
        "plt.show()"
      ],
      "metadata": {
        "colab": {
          "base_uri": "https://localhost:8080/",
          "height": 279
        },
        "id": "rKjwG6jjsnH2",
        "outputId": "9732e454-96f8-430e-9b49-dc4aa41daa21"
      },
      "execution_count": 6,
      "outputs": [
        {
          "output_type": "display_data",
          "data": {
            "text/plain": [
              "<Figure size 432x288 with 1 Axes>"
            ],
            "image/png": "[encoded data removed]"
          },
          "metadata": {
            "needs_background": "light"
          }
        }
      ]
    },
    {
      "cell_type": "code",
      "source": [
        "model2 = keras.Sequential()\n",
        "model2.add(keras.layers.Embedding(500, 16, input_length=100))\n",
        "model2.add(keras.layers.LSTM(8, dropout=0.3))\n",
        "model2.add(keras.layers.Dense(1, activation='sigmoid'))"
      ],
      "metadata": {
        "id": "gZfCmcfvs_Hp"
      },
      "execution_count": 7,
      "outputs": []
    },
    {
      "cell_type": "code",
      "source": [
        "rmsprop = keras.optimizers.RMSprop(learning_rate=1e-4)\n",
        "\n",
        "model2.compile(optimizer=rmsprop, loss='binary_crossentropy', metrics=['accuracy'])\n",
        "checkpoint_cb = keras.callbacks.ModelCheckpoint('best-lstm-model.h5')\n",
        "early_stopping_cb = keras.callbacks.EarlyStopping(patience=3, restore_best_weights=True)\n",
        "\n",
        "history = model2.fit(train_seq, train_target, epochs=100, batch_size=64,\n",
        "                    validation_data=(val_seq, val_target),\n",
        "                    callbacks=[checkpoint_cb, early_stopping_cb])"
      ],
      "metadata": {
        "colab": {
          "base_uri": "https://localhost:8080/"
        },
        "id": "-U5Cl15kugVs",
        "outputId": "f4f254f8-2220-4a75-9f08-4ab645b00e15"
      },
      "execution_count": 8,
      "outputs": [
        {
          "output_type": "stream",
          "name": "stdout",
          "text": [
            "Epoch 1/100\n",
            "313/313 [==============================] - 15s 42ms/step - loss: 0.6924 - accuracy: 0.5420 - val_loss: 0.6916 - val_accuracy: 0.5908\n",
            "Epoch 2/100\n",
            "313/313 [==============================] - 13s 41ms/step - loss: 0.6901 - accuracy: 0.6041 - val_loss: 0.6886 - val_accuracy: 0.6372\n",
            "Epoch 3/100\n",
            "313/313 [==============================] - 13s 40ms/step - loss: 0.6839 - accuracy: 0.6457 - val_loss: 0.6781 - val_accuracy: 0.6488\n",
            "Epoch 4/100\n",
            "313/313 [==============================] - 13s 40ms/step - loss: 0.6483 - accuracy: 0.6664 - val_loss: 0.6166 - val_accuracy: 0.7126\n",
            "Epoch 5/100\n",
            "313/313 [==============================] - 13s 41ms/step - loss: 0.5979 - accuracy: 0.7261 - val_loss: 0.5882 - val_accuracy: 0.7324\n",
            "Epoch 6/100\n",
            "313/313 [==============================] - 13s 40ms/step - loss: 0.5739 - accuracy: 0.7404 - val_loss: 0.5682 - val_accuracy: 0.7446\n",
            "Epoch 7/100\n",
            "313/313 [==============================] - 13s 40ms/step - loss: 0.5538 - accuracy: 0.7528 - val_loss: 0.5460 - val_accuracy: 0.7570\n",
            "Epoch 8/100\n",
            "313/313 [==============================] - 13s 42ms/step - loss: 0.5369 - accuracy: 0.7597 - val_loss: 0.5301 - val_accuracy: 0.7594\n",
            "Epoch 9/100\n",
            "313/313 [==============================] - 13s 41ms/step - loss: 0.5202 - accuracy: 0.7674 - val_loss: 0.5150 - val_accuracy: 0.7714\n",
            "Epoch 10/100\n",
            "313/313 [==============================] - 13s 41ms/step - loss: 0.5057 - accuracy: 0.7756 - val_loss: 0.5008 - val_accuracy: 0.7758\n",
            "Epoch 11/100\n",
            "313/313 [==============================] - 13s 40ms/step - loss: 0.4916 - accuracy: 0.7800 - val_loss: 0.4900 - val_accuracy: 0.7794\n",
            "Epoch 12/100\n",
            "313/313 [==============================] - 13s 41ms/step - loss: 0.4814 - accuracy: 0.7843 - val_loss: 0.4813 - val_accuracy: 0.7806\n",
            "Epoch 13/100\n",
            "313/313 [==============================] - 13s 40ms/step - loss: 0.4726 - accuracy: 0.7893 - val_loss: 0.4729 - val_accuracy: 0.7848\n",
            "Epoch 14/100\n",
            "313/313 [==============================] - 13s 40ms/step - loss: 0.4631 - accuracy: 0.7914 - val_loss: 0.4647 - val_accuracy: 0.7922\n",
            "Epoch 15/100\n",
            "313/313 [==============================] - 12s 40ms/step - loss: 0.4552 - accuracy: 0.7974 - val_loss: 0.4589 - val_accuracy: 0.7908\n",
            "Epoch 16/100\n",
            "313/313 [==============================] - 12s 40ms/step - loss: 0.4501 - accuracy: 0.7973 - val_loss: 0.4557 - val_accuracy: 0.7974\n",
            "Epoch 17/100\n",
            "313/313 [==============================] - 13s 40ms/step - loss: 0.4467 - accuracy: 0.8010 - val_loss: 0.4517 - val_accuracy: 0.7982\n",
            "Epoch 18/100\n",
            "313/313 [==============================] - 12s 40ms/step - loss: 0.4424 - accuracy: 0.8002 - val_loss: 0.4483 - val_accuracy: 0.7962\n",
            "Epoch 19/100\n",
            "313/313 [==============================] - 13s 40ms/step - loss: 0.4393 - accuracy: 0.8024 - val_loss: 0.4450 - val_accuracy: 0.7980\n",
            "Epoch 20/100\n",
            "313/313 [==============================] - 12s 40ms/step - loss: 0.4354 - accuracy: 0.8062 - val_loss: 0.4431 - val_accuracy: 0.8010\n",
            "Epoch 21/100\n",
            "313/313 [==============================] - 12s 40ms/step - loss: 0.4345 - accuracy: 0.8030 - val_loss: 0.4447 - val_accuracy: 0.7984\n",
            "Epoch 22/100\n",
            "313/313 [==============================] - 13s 40ms/step - loss: 0.4311 - accuracy: 0.8059 - val_loss: 0.4512 - val_accuracy: 0.7946\n",
            "Epoch 23/100\n",
            "313/313 [==============================] - 13s 40ms/step - loss: 0.4304 - accuracy: 0.8051 - val_loss: 0.4390 - val_accuracy: 0.8016\n",
            "Epoch 24/100\n",
            "313/313 [==============================] - 13s 40ms/step - loss: 0.4270 - accuracy: 0.8069 - val_loss: 0.4407 - val_accuracy: 0.8014\n",
            "Epoch 25/100\n",
            "313/313 [==============================] - 13s 40ms/step - loss: 0.4264 - accuracy: 0.8073 - val_loss: 0.4373 - val_accuracy: 0.8026\n",
            "Epoch 26/100\n",
            "313/313 [==============================] - 12s 40ms/step - loss: 0.4249 - accuracy: 0.8069 - val_loss: 0.4372 - val_accuracy: 0.7984\n",
            "Epoch 27/100\n",
            "313/313 [==============================] - 13s 40ms/step - loss: 0.4246 - accuracy: 0.8095 - val_loss: 0.4370 - val_accuracy: 0.8028\n",
            "Epoch 28/100\n",
            "313/313 [==============================] - 13s 41ms/step - loss: 0.4237 - accuracy: 0.8081 - val_loss: 0.4359 - val_accuracy: 0.8000\n",
            "Epoch 29/100\n",
            "313/313 [==============================] - 13s 41ms/step - loss: 0.4227 - accuracy: 0.8086 - val_loss: 0.4345 - val_accuracy: 0.8016\n",
            "Epoch 30/100\n",
            "313/313 [==============================] - 13s 41ms/step - loss: 0.4206 - accuracy: 0.8089 - val_loss: 0.4337 - val_accuracy: 0.8016\n",
            "Epoch 31/100\n",
            "313/313 [==============================] - 13s 40ms/step - loss: 0.4228 - accuracy: 0.8060 - val_loss: 0.4379 - val_accuracy: 0.8028\n",
            "Epoch 32/100\n",
            "313/313 [==============================] - 13s 40ms/step - loss: 0.4205 - accuracy: 0.8084 - val_loss: 0.4377 - val_accuracy: 0.8030\n",
            "Epoch 33/100\n",
            "313/313 [==============================] - 13s 40ms/step - loss: 0.4196 - accuracy: 0.8098 - val_loss: 0.4325 - val_accuracy: 0.8008\n",
            "Epoch 34/100\n",
            "313/313 [==============================] - 12s 40ms/step - loss: 0.4193 - accuracy: 0.8100 - val_loss: 0.4328 - val_accuracy: 0.8040\n",
            "Epoch 35/100\n",
            "313/313 [==============================] - 13s 40ms/step - loss: 0.4186 - accuracy: 0.8120 - val_loss: 0.4334 - val_accuracy: 0.8022\n",
            "Epoch 36/100\n",
            "313/313 [==============================] - 13s 40ms/step - loss: 0.4177 - accuracy: 0.8101 - val_loss: 0.4329 - val_accuracy: 0.7972\n"
          ]
        }
      ]
    },
    {
      "cell_type": "code",
      "source": [
        "plt.plot(history.history['loss'])\n",
        "plt.plot(history.history['val_loss'])\n",
        "plt.xlabel('epoch')\n",
        "plt.ylabel('loss')\n",
        "plt.legend(['train', 'val'])\n",
        "plt.show()"
      ],
      "metadata": {
        "colab": {
          "base_uri": "https://localhost:8080/",
          "height": 279
        },
        "id": "WyA6Yx0vuo7n",
        "outputId": "53b92b58-4961-4088-d147-f3d191fdaf4c"
      },
      "execution_count": 9,
      "outputs": [
        {
          "output_type": "display_data",
          "data": {
            "text/plain": [
              "<Figure size 432x288 with 1 Axes>"
            ],
            "image/png": "[encoded data removed]"
          },
          "metadata": {
            "needs_background": "light"
          }
        }
      ]
    },
    {
      "cell_type": "code",
      "source": [
        "model3 = keras.Sequential()\n",
        "model3.add(keras.layers.Embedding(500, 16, input_length=100))\n",
        "model3.add(keras.layers.LSTM(8, dropout=0.3, return_sequences=True))\n",
        "model3.add(keras.layers.LSTM(8, dropout=0.3))\n",
        "model3.add(keras.layers.Dense(1, activation='sigmoid'))"
      ],
      "metadata": {
        "id": "D9zRQGYWutoC"
      },
      "execution_count": 10,
      "outputs": []
    },
    {
      "cell_type": "code",
      "source": [
        "model3.summary()"
      ],
      "metadata": {
        "colab": {
          "base_uri": "https://localhost:8080/"
        },
        "id": "Sie3rkfZzIBz",
        "outputId": "06ec0a40-7724-484c-f790-fcbdf8310680"
      },
      "execution_count": 11,
      "outputs": [
        {
          "output_type": "stream",
          "name": "stdout",
          "text": [
            "Model: \"sequential_2\"\n",
            "_________________________________________________________________\n",
            " Layer (type)                Output Shape              Param #   \n",
            "=================================================================\n",
            " embedding_2 (Embedding)     (None, 100, 16)           8000      \n",
            "                                                                 \n",
            " lstm_2 (LSTM)               (None, 100, 8)            800       \n",
            "                                                                 \n",
            " lstm_3 (LSTM)               (None, 8)                 544       \n",
            "                                                                 \n",
            " dense_2 (Dense)             (None, 1)                 9         \n",
            "                                                                 \n",
            "=================================================================\n",
            "Total params: 9,353\n",
            "Trainable params: 9,353\n",
            "Non-trainable params: 0\n",
            "_________________________________________________________________\n"
          ]
        }
      ]
    },
    {
      "cell_type": "code",
      "source": [
        "rmsprop = keras.optimizers.RMSprop(learning_rate=1e-4)\n",
        "\n",
        "model3.compile(optimizer=rmsprop, loss='binary_crossentropy', metrics=['accuracy'])\n",
        "checkpoint_cb = keras.callbacks.ModelCheckpoint('best-2rnn-model.h5')\n",
        "early_stopping_cb = keras.callbacks.EarlyStopping(patience=3, restore_best_weights=True)\n",
        "\n",
        "history = model3.fit(train_seq, train_target, epochs=100, batch_size=64,\n",
        "                    validation_data=(val_seq, val_target),\n",
        "                    callbacks=[checkpoint_cb, early_stopping_cb])"
      ],
      "metadata": {
        "colab": {
          "base_uri": "https://localhost:8080/"
        },
        "id": "Kq7fura4zJkG",
        "outputId": "0ba34cc1-43f3-47a4-f552-857cfc739312"
      },
      "execution_count": 12,
      "outputs": [
        {
          "output_type": "stream",
          "name": "stdout",
          "text": [
            "Epoch 1/100\n",
            "313/313 [==============================] - 30s 81ms/step - loss: 0.6925 - accuracy: 0.5400 - val_loss: 0.6916 - val_accuracy: 0.5924\n",
            "Epoch 2/100\n",
            "313/313 [==============================] - 24s 75ms/step - loss: 0.6896 - accuracy: 0.5995 - val_loss: 0.6861 - val_accuracy: 0.6392\n",
            "Epoch 3/100\n",
            "313/313 [==============================] - 24s 76ms/step - loss: 0.6737 - accuracy: 0.6472 - val_loss: 0.6476 - val_accuracy: 0.6774\n",
            "Epoch 4/100\n",
            "313/313 [==============================] - 24s 76ms/step - loss: 0.5986 - accuracy: 0.6974 - val_loss: 0.5624 - val_accuracy: 0.7276\n",
            "Epoch 5/100\n",
            "313/313 [==============================] - 24s 78ms/step - loss: 0.5465 - accuracy: 0.7340 - val_loss: 0.5310 - val_accuracy: 0.7400\n",
            "Epoch 6/100\n",
            "313/313 [==============================] - 24s 76ms/step - loss: 0.5170 - accuracy: 0.7559 - val_loss: 0.5038 - val_accuracy: 0.7556\n",
            "Epoch 7/100\n",
            "313/313 [==============================] - 24s 77ms/step - loss: 0.5007 - accuracy: 0.7628 - val_loss: 0.4887 - val_accuracy: 0.7694\n",
            "Epoch 8/100\n",
            "313/313 [==============================] - 24s 77ms/step - loss: 0.4856 - accuracy: 0.7769 - val_loss: 0.4786 - val_accuracy: 0.7768\n",
            "Epoch 9/100\n",
            "313/313 [==============================] - 24s 76ms/step - loss: 0.4775 - accuracy: 0.7792 - val_loss: 0.4715 - val_accuracy: 0.7806\n",
            "Epoch 10/100\n",
            "313/313 [==============================] - 24s 76ms/step - loss: 0.4690 - accuracy: 0.7839 - val_loss: 0.4651 - val_accuracy: 0.7862\n",
            "Epoch 11/100\n",
            "313/313 [==============================] - 24s 76ms/step - loss: 0.4637 - accuracy: 0.7878 - val_loss: 0.4585 - val_accuracy: 0.7884\n",
            "Epoch 12/100\n",
            "313/313 [==============================] - 24s 76ms/step - loss: 0.4594 - accuracy: 0.7891 - val_loss: 0.4674 - val_accuracy: 0.7778\n",
            "Epoch 13/100\n",
            "313/313 [==============================] - 24s 77ms/step - loss: 0.4561 - accuracy: 0.7908 - val_loss: 0.4514 - val_accuracy: 0.7908\n",
            "Epoch 14/100\n",
            "313/313 [==============================] - 24s 76ms/step - loss: 0.4521 - accuracy: 0.7915 - val_loss: 0.4495 - val_accuracy: 0.7904\n",
            "Epoch 15/100\n",
            "313/313 [==============================] - 24s 76ms/step - loss: 0.4477 - accuracy: 0.7940 - val_loss: 0.4524 - val_accuracy: 0.7924\n",
            "Epoch 16/100\n",
            "313/313 [==============================] - 24s 76ms/step - loss: 0.4432 - accuracy: 0.8012 - val_loss: 0.4503 - val_accuracy: 0.7886\n",
            "Epoch 17/100\n",
            "313/313 [==============================] - 24s 76ms/step - loss: 0.4408 - accuracy: 0.7970 - val_loss: 0.4442 - val_accuracy: 0.7964\n",
            "Epoch 18/100\n",
            "313/313 [==============================] - 24s 77ms/step - loss: 0.4405 - accuracy: 0.7982 - val_loss: 0.4428 - val_accuracy: 0.7960\n",
            "Epoch 19/100\n",
            "313/313 [==============================] - 24s 76ms/step - loss: 0.4381 - accuracy: 0.8004 - val_loss: 0.4416 - val_accuracy: 0.7956\n",
            "Epoch 20/100\n",
            "313/313 [==============================] - 24s 77ms/step - loss: 0.4355 - accuracy: 0.8005 - val_loss: 0.4409 - val_accuracy: 0.7934\n",
            "Epoch 21/100\n",
            "313/313 [==============================] - 24s 77ms/step - loss: 0.4340 - accuracy: 0.8019 - val_loss: 0.4409 - val_accuracy: 0.7924\n",
            "Epoch 22/100\n",
            "313/313 [==============================] - 24s 77ms/step - loss: 0.4325 - accuracy: 0.8013 - val_loss: 0.4397 - val_accuracy: 0.7982\n",
            "Epoch 23/100\n",
            "313/313 [==============================] - 24s 76ms/step - loss: 0.4330 - accuracy: 0.8008 - val_loss: 0.4412 - val_accuracy: 0.7904\n",
            "Epoch 24/100\n",
            "313/313 [==============================] - 24s 76ms/step - loss: 0.4325 - accuracy: 0.8010 - val_loss: 0.4428 - val_accuracy: 0.8004\n",
            "Epoch 25/100\n",
            "313/313 [==============================] - 24s 77ms/step - loss: 0.4318 - accuracy: 0.8041 - val_loss: 0.4376 - val_accuracy: 0.8016\n",
            "Epoch 26/100\n",
            "313/313 [==============================] - 24s 77ms/step - loss: 0.4310 - accuracy: 0.8030 - val_loss: 0.4391 - val_accuracy: 0.7918\n",
            "Epoch 27/100\n",
            "313/313 [==============================] - 24s 76ms/step - loss: 0.4294 - accuracy: 0.8025 - val_loss: 0.4377 - val_accuracy: 0.7950\n",
            "Epoch 28/100\n",
            "313/313 [==============================] - 24s 76ms/step - loss: 0.4268 - accuracy: 0.8038 - val_loss: 0.4387 - val_accuracy: 0.8024\n"
          ]
        }
      ]
    },
    {
      "cell_type": "code",
      "source": [
        "plt.plot(history.history['loss'])\n",
        "plt.plot(history.history['val_loss'])\n",
        "plt.xlabel('epoch')\n",
        "plt.ylabel('loss')\n",
        "plt.legend(['train', 'val'])\n",
        "plt.show()"
      ],
      "metadata": {
        "colab": {
          "base_uri": "https://localhost:8080/",
          "height": 279
        },
        "id": "yXgaVid_zkva",
        "outputId": "77924cb4-cb9e-4d18-f69d-52c2cbc8ed3f"
      },
      "execution_count": 13,
      "outputs": [
        {
          "output_type": "display_data",
          "data": {
            "text/plain": [
              "<Figure size 432x288 with 1 Axes>"
            ],
            "image/png": "[encoded data removed]"
          },
          "metadata": {
            "needs_background": "light"
          }
        }
      ]
    },
    {
      "cell_type": "code",
      "source": [
        "model4 = keras.Sequential()\n",
        "model4.add(keras.layers.Embedding(500, 16, input_length=100))\n",
        "model4.add(keras.layers.GRU(8))\n",
        "model4.add(keras.layers.Dense(1, activation='sigmoid'))"
      ],
      "metadata": {
        "id": "vquNa9BXzrSL"
      },
      "execution_count": 14,
      "outputs": []
    },
    {
      "cell_type": "code",
      "source": [
        "model4.summary()"
      ],
      "metadata": {
        "colab": {
          "base_uri": "https://localhost:8080/"
        },
        "id": "YRZm5cIR337R",
        "outputId": "9b2e8730-f0b9-4e58-a3b5-7b0a52c5df87"
      },
      "execution_count": 15,
      "outputs": [
        {
          "output_type": "stream",
          "name": "stdout",
          "text": [
            "Model: \"sequential_3\"\n",
            "_________________________________________________________________\n",
            " Layer (type)                Output Shape              Param #   \n",
            "=================================================================\n",
            " embedding_3 (Embedding)     (None, 100, 16)           8000      \n",
            "                                                                 \n",
            " gru (GRU)                   (None, 8)                 624       \n",
            "                                                                 \n",
            " dense_3 (Dense)             (None, 1)                 9         \n",
            "                                                                 \n",
            "=================================================================\n",
            "Total params: 8,633\n",
            "Trainable params: 8,633\n",
            "Non-trainable params: 0\n",
            "_________________________________________________________________\n"
          ]
        }
      ]
    },
    {
      "cell_type": "code",
      "source": [
        "rmsprop = keras.optimizers.RMSprop(learning_rate=1e-4)\n",
        "\n",
        "model4.compile(optimizer=rmsprop, loss='binary_crossentropy', metrics=['accuracy'])\n",
        "checkpoint_cb = keras.callbacks.ModelCheckpoint('best-gru-model.h5')\n",
        "early_stopping_cb = keras.callbacks.EarlyStopping(patience=3, restore_best_weights=True)\n",
        "\n",
        "history = model4.fit(train_seq, train_target, epochs=100, batch_size=64,\n",
        "                    validation_data=(val_seq, val_target),\n",
        "                    callbacks=[checkpoint_cb, early_stopping_cb])"
      ],
      "metadata": {
        "colab": {
          "base_uri": "https://localhost:8080/"
        },
        "id": "SSNfxypl373b",
        "outputId": "07f87faf-2bbb-4be3-d1de-2f5ea2d93ef8"
      },
      "execution_count": 16,
      "outputs": [
        {
          "output_type": "stream",
          "name": "stdout",
          "text": [
            "Epoch 1/100\n",
            "313/313 [==============================] - 17s 45ms/step - loss: 0.6930 - accuracy: 0.5113 - val_loss: 0.6923 - val_accuracy: 0.5234\n",
            "Epoch 2/100\n",
            "313/313 [==============================] - 14s 44ms/step - loss: 0.6908 - accuracy: 0.5562 - val_loss: 0.6899 - val_accuracy: 0.5552\n",
            "Epoch 3/100\n",
            "313/313 [==============================] - 13s 42ms/step - loss: 0.6877 - accuracy: 0.5824 - val_loss: 0.6861 - val_accuracy: 0.5776\n",
            "Epoch 4/100\n",
            "313/313 [==============================] - 13s 42ms/step - loss: 0.6824 - accuracy: 0.6118 - val_loss: 0.6797 - val_accuracy: 0.5992\n",
            "Epoch 5/100\n",
            "313/313 [==============================] - 13s 42ms/step - loss: 0.6731 - accuracy: 0.6323 - val_loss: 0.6686 - val_accuracy: 0.6232\n",
            "Epoch 6/100\n",
            "313/313 [==============================] - 13s 43ms/step - loss: 0.6569 - accuracy: 0.6532 - val_loss: 0.6483 - val_accuracy: 0.6560\n",
            "Epoch 7/100\n",
            "313/313 [==============================] - 14s 44ms/step - loss: 0.6260 - accuracy: 0.6801 - val_loss: 0.6076 - val_accuracy: 0.6918\n",
            "Epoch 8/100\n",
            "313/313 [==============================] - 20s 63ms/step - loss: 0.5637 - accuracy: 0.7226 - val_loss: 0.5426 - val_accuracy: 0.7312\n",
            "Epoch 9/100\n",
            "313/313 [==============================] - 18s 57ms/step - loss: 0.5210 - accuracy: 0.7479 - val_loss: 0.5207 - val_accuracy: 0.7486\n",
            "Epoch 10/100\n",
            "313/313 [==============================] - 17s 55ms/step - loss: 0.5023 - accuracy: 0.7630 - val_loss: 0.5064 - val_accuracy: 0.7590\n",
            "Epoch 11/100\n",
            "313/313 [==============================] - 13s 42ms/step - loss: 0.4886 - accuracy: 0.7725 - val_loss: 0.4964 - val_accuracy: 0.7678\n",
            "Epoch 12/100\n",
            "313/313 [==============================] - 15s 48ms/step - loss: 0.4769 - accuracy: 0.7791 - val_loss: 0.4879 - val_accuracy: 0.7742\n",
            "Epoch 13/100\n",
            "313/313 [==============================] - 15s 48ms/step - loss: 0.4678 - accuracy: 0.7864 - val_loss: 0.4782 - val_accuracy: 0.7764\n",
            "Epoch 14/100\n",
            "313/313 [==============================] - 16s 50ms/step - loss: 0.4601 - accuracy: 0.7898 - val_loss: 0.4730 - val_accuracy: 0.7806\n",
            "Epoch 15/100\n",
            "313/313 [==============================] - 15s 49ms/step - loss: 0.4539 - accuracy: 0.7933 - val_loss: 0.4680 - val_accuracy: 0.7830\n",
            "Epoch 16/100\n",
            "313/313 [==============================] - 15s 49ms/step - loss: 0.4488 - accuracy: 0.7954 - val_loss: 0.4653 - val_accuracy: 0.7818\n",
            "Epoch 17/100\n",
            "313/313 [==============================] - 16s 51ms/step - loss: 0.4442 - accuracy: 0.7989 - val_loss: 0.4618 - val_accuracy: 0.7862\n",
            "Epoch 18/100\n",
            "313/313 [==============================] - 16s 53ms/step - loss: 0.4401 - accuracy: 0.8008 - val_loss: 0.4601 - val_accuracy: 0.7890\n",
            "Epoch 19/100\n",
            "313/313 [==============================] - 16s 50ms/step - loss: 0.4371 - accuracy: 0.8037 - val_loss: 0.4592 - val_accuracy: 0.7904\n",
            "Epoch 20/100\n",
            "313/313 [==============================] - 17s 53ms/step - loss: 0.4343 - accuracy: 0.8069 - val_loss: 0.4548 - val_accuracy: 0.7944\n",
            "Epoch 21/100\n",
            "313/313 [==============================] - 15s 48ms/step - loss: 0.4316 - accuracy: 0.8083 - val_loss: 0.4532 - val_accuracy: 0.7942\n",
            "Epoch 22/100\n",
            "313/313 [==============================] - 15s 48ms/step - loss: 0.4295 - accuracy: 0.8087 - val_loss: 0.4529 - val_accuracy: 0.7916\n",
            "Epoch 23/100\n",
            "313/313 [==============================] - 15s 49ms/step - loss: 0.4280 - accuracy: 0.8087 - val_loss: 0.4515 - val_accuracy: 0.7916\n",
            "Epoch 24/100\n",
            "313/313 [==============================] - 15s 49ms/step - loss: 0.4260 - accuracy: 0.8120 - val_loss: 0.4526 - val_accuracy: 0.7934\n",
            "Epoch 25/100\n",
            "313/313 [==============================] - 15s 49ms/step - loss: 0.4249 - accuracy: 0.8116 - val_loss: 0.4519 - val_accuracy: 0.7926\n",
            "Epoch 26/100\n",
            "313/313 [==============================] - 15s 48ms/step - loss: 0.4232 - accuracy: 0.8116 - val_loss: 0.4537 - val_accuracy: 0.7852\n"
          ]
        }
      ]
    },
    {
      "cell_type": "code",
      "source": [
        "plt.plot(history.history['loss'])\n",
        "plt.plot(history.history['val_loss'])\n",
        "plt.xlabel('epoch')\n",
        "plt.ylabel('loss')\n",
        "plt.legend(['train', 'val'])\n",
        "plt.show()"
      ],
      "metadata": {
        "colab": {
          "base_uri": "https://localhost:8080/",
          "height": 279
        },
        "id": "jY72IftM4Pkx",
        "outputId": "b5b9afcf-a6f2-4732-dc1d-6232137ce55b"
      },
      "execution_count": 17,
      "outputs": [
        {
          "output_type": "display_data",
          "data": {
            "text/plain": [
              "<Figure size 432x288 with 1 Axes>"
            ],
            "image/png": "[encoded data removed]"
          },
          "metadata": {
            "needs_background": "light"
          }
        }
      ]
    },
    {
      "cell_type": "code",
      "source": [
        "test_seq = pad_sequences(test_input, maxlen=100)\n",
        "rnn_model = keras.models.load_model('best-2rnn-model.h5')\n",
        "rnn_model.evaluate(val_seq, val_target)"
      ],
      "metadata": {
        "colab": {
          "base_uri": "https://localhost:8080/"
        },
        "id": "-HwqqSGB4T-c",
        "outputId": "269320d2-6c48-46ac-a842-d660237467dd"
      },
      "execution_count": 19,
      "outputs": [
        {
          "output_type": "stream",
          "name": "stdout",
          "text": [
            "157/157 [==============================] - 4s 16ms/step - loss: 0.4387 - accuracy: 0.8024\n"
          ]
        },
        {
          "output_type": "execute_result",
          "data": {
            "text/plain": [
              "[0.43866676092147827, 0.8023999929428101]"
            ]
          },
          "metadata": {},
          "execution_count": 19
        }
      ]
    },
    {
      "cell_type": "code",
      "source": [
        ""
      ],
      "metadata": {
        "id": "DoY_MD6d4ybK"
      },
      "execution_count": null,
      "outputs": []
    }
  ]
}