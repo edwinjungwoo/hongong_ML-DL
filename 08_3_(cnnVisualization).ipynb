{
  "nbformat": 4,
  "nbformat_minor": 0,
  "metadata": {
    "colab": {
      "name": "08_3_(cnnVisualization).ipynb",
      "provenance": [],
      "collapsed_sections": []
    },
    "kernelspec": {
      "name": "python3",
      "display_name": "Python 3"
    },
    "language_info": {
      "name": "python"
    }
  },
  "cells": [
    {
      "cell_type": "code",
      "execution_count": 2,
      "metadata": {
        "colab": {
          "base_uri": "https://localhost:8080/"
        },
        "id": "JJc61TCbofa2",
        "outputId": "51c104c1-aa10-4f38-f46a-c900b3675cc3"
      },
      "outputs": [
        {
          "output_type": "stream",
          "name": "stdout",
          "text": [
            "Downloading data from https://storage.googleapis.com/tensorflow/tf-keras-datasets/train-labels-idx1-ubyte.gz\n",
            "32768/29515 [=================================] - 0s 0us/step\n",
            "40960/29515 [=========================================] - 0s 0us/step\n",
            "Downloading data from https://storage.googleapis.com/tensorflow/tf-keras-datasets/train-images-idx3-ubyte.gz\n",
            "26427392/26421880 [==============================] - 1s 0us/step\n",
            "26435584/26421880 [==============================] - 1s 0us/step\n",
            "Downloading data from https://storage.googleapis.com/tensorflow/tf-keras-datasets/t10k-labels-idx1-ubyte.gz\n",
            "16384/5148 [===============================================================================================] - 0s 0us/step\n",
            "Downloading data from https://storage.googleapis.com/tensorflow/tf-keras-datasets/t10k-images-idx3-ubyte.gz\n",
            "4423680/4422102 [==============================] - 0s 0us/step\n",
            "4431872/4422102 [==============================] - 0s 0us/step\n"
          ]
        }
      ],
      "source": [
        "from tensorflow import keras\n",
        "from sklearn.model_selection import train_test_split\n",
        "(train_input, train_target), (test_input, test_target) = keras.datasets.fashion_mnist.load_data()\n",
        "train_scaled = train_input.reshape(-1, 28, 28, 1) / 255.0    # 입력 이미지는 항상 깊이 차원이 있어야, Conv2D 층 사용 위해 추가\n",
        "train_scaled, val_scaled, train_target, val_target = train_test_split(train_scaled, train_target, test_size=0.2, random_state=42)"
      ]
    },
    {
      "cell_type": "code",
      "source": [
        "model = keras.Sequential()\n",
        "model.add(keras.layers.Conv2D(32, kernel_size=3, activation='relu', padding='same', input_shape=(28,28,1)))\n",
        "model.add(keras.layers.MaxPooling2D(2))\n",
        "model.add(keras.layers.Conv2D(64, kernel_size=3, activation='relu', padding='same'))\n",
        "model.add(keras.layers.MaxPooling2D(2))\n",
        "model.add(keras.layers.Flatten())\n",
        "model.add(keras.layers.Dense(100, activation='relu'))    # 일렬로 펼치고 바로 전달하지 않고 중간에 밀집 은닉층 추가\n",
        "model.add(keras.layers.Dropout(0.4))    # 드롭아웃으로 앙상블 효과\n",
        "model.add(keras.layers.Dense(10, activation='softmax'))"
      ],
      "metadata": {
        "id": "peteRVl6pY2E"
      },
      "execution_count": 3,
      "outputs": []
    },
    {
      "cell_type": "code",
      "source": [
        "model.compile(optimizer='adam', loss='sparse_categorical_crossentropy', metrics='accuracy')\n",
        "checkpoint_cb = keras.callbacks.ModelCheckpoint('best-cnn-model.h5')\n",
        "early_stopping_cb = keras.callbacks.EarlyStopping(patience=2, restore_best_weights=True)\n",
        "history = model.fit(train_scaled, train_target, epochs=20,\n",
        "                    validation_data = (val_scaled, val_target),\n",
        "                    callbacks=[checkpoint_cb, early_stopping_cb])"
      ],
      "metadata": {
        "colab": {
          "base_uri": "https://localhost:8080/"
        },
        "id": "PXEX3r0epzx8",
        "outputId": "b78d25ec-dfb8-4429-d73f-5a6db41278d4"
      },
      "execution_count": 4,
      "outputs": [
        {
          "output_type": "stream",
          "name": "stdout",
          "text": [
            "Epoch 1/20\n",
            "1500/1500 [==============================] - 70s 46ms/step - loss: 0.5386 - accuracy: 0.8050 - val_loss: 0.3419 - val_accuracy: 0.8737\n",
            "Epoch 2/20\n",
            "1500/1500 [==============================] - 72s 48ms/step - loss: 0.3565 - accuracy: 0.8730 - val_loss: 0.2845 - val_accuracy: 0.8916\n",
            "Epoch 3/20\n",
            "1500/1500 [==============================] - 65s 43ms/step - loss: 0.3059 - accuracy: 0.8891 - val_loss: 0.2559 - val_accuracy: 0.9041\n",
            "Epoch 4/20\n",
            "1500/1500 [==============================] - 73s 48ms/step - loss: 0.2744 - accuracy: 0.8997 - val_loss: 0.2477 - val_accuracy: 0.9079\n",
            "Epoch 5/20\n",
            "1500/1500 [==============================] - 70s 47ms/step - loss: 0.2500 - accuracy: 0.9081 - val_loss: 0.2416 - val_accuracy: 0.9102\n",
            "Epoch 6/20\n",
            "1500/1500 [==============================] - 63s 42ms/step - loss: 0.2283 - accuracy: 0.9149 - val_loss: 0.2281 - val_accuracy: 0.9139\n",
            "Epoch 7/20\n",
            "1500/1500 [==============================] - 84s 56ms/step - loss: 0.2128 - accuracy: 0.9209 - val_loss: 0.2236 - val_accuracy: 0.9172\n",
            "Epoch 8/20\n",
            "1500/1500 [==============================] - 85s 57ms/step - loss: 0.1993 - accuracy: 0.9249 - val_loss: 0.2455 - val_accuracy: 0.9094\n",
            "Epoch 9/20\n",
            "1500/1500 [==============================] - 75s 50ms/step - loss: 0.1830 - accuracy: 0.9315 - val_loss: 0.2370 - val_accuracy: 0.9147\n"
          ]
        }
      ]
    },
    {
      "cell_type": "code",
      "source": [
        "model = keras.models.load_model('best-cnn-model.h5')\n",
        "model.layers"
      ],
      "metadata": {
        "colab": {
          "base_uri": "https://localhost:8080/"
        },
        "id": "63QRNrvgp1R6",
        "outputId": "8443b534-275b-4552-a748-49f5bb1d3656"
      },
      "execution_count": 5,
      "outputs": [
        {
          "output_type": "execute_result",
          "data": {
            "text/plain": [
              "[<keras.layers.convolutional.Conv2D at 0x7faea5388d50>,\n",
              " <keras.layers.pooling.MaxPooling2D at 0x7faea63b3850>,\n",
              " <keras.layers.convolutional.Conv2D at 0x7faea53c7cd0>,\n",
              " <keras.layers.pooling.MaxPooling2D at 0x7faf2bae0850>,\n",
              " <keras.layers.core.flatten.Flatten at 0x7faea63b3b90>,\n",
              " <keras.layers.core.dense.Dense at 0x7faea9c48e90>,\n",
              " <keras.layers.core.dropout.Dropout at 0x7faea63c84d0>,\n",
              " <keras.layers.core.dense.Dense at 0x7faea9c5b550>]"
            ]
          },
          "metadata": {},
          "execution_count": 5
        }
      ]
    },
    {
      "cell_type": "code",
      "source": [
        "conv = model.layers[0]\n",
        "print(conv.weights[0].shape, conv.weights[1].shape)    # 가중치 크기, 절편"
      ],
      "metadata": {
        "colab": {
          "base_uri": "https://localhost:8080/"
        },
        "id": "u4GNFYIFqHvr",
        "outputId": "b3ad4f17-6881-4187-96d1-a84d1cd9e6b9"
      },
      "execution_count": 6,
      "outputs": [
        {
          "output_type": "stream",
          "name": "stdout",
          "text": [
            "(3, 3, 1, 32) (32,)\n"
          ]
        }
      ]
    },
    {
      "cell_type": "code",
      "source": [
        "conv_weights = conv.weights[0].numpy()"
      ],
      "metadata": {
        "id": "js-2lCZeqYwe"
      },
      "execution_count": 7,
      "outputs": []
    },
    {
      "cell_type": "code",
      "source": [
        "print(conv_weights.mean(), conv_weights.std())    # 가중치 배열의 평균과 표준편차"
      ],
      "metadata": {
        "colab": {
          "base_uri": "https://localhost:8080/"
        },
        "id": "k6_ORVqrq6Hi",
        "outputId": "7d1a4830-b6b3-48e3-dc62-43d573146736"
      },
      "execution_count": 8,
      "outputs": [
        {
          "output_type": "stream",
          "name": "stdout",
          "text": [
            "-0.024579149 0.2507598\n"
          ]
        }
      ]
    },
    {
      "cell_type": "code",
      "source": [
        "import matplotlib.pyplot as plt\n",
        "plt.hist(conv_weights.reshape(-1, 1))\n",
        "plt.xlabel('weight')\n",
        "plt.ylabel('count')\n",
        "plt.show()"
      ],
      "metadata": {
        "colab": {
          "base_uri": "https://localhost:8080/",
          "height": 279
        },
        "id": "1y1AD6x7rDlk",
        "outputId": "d8fcb856-9b96-4ffe-c291-ea69b4e6b8b6"
      },
      "execution_count": 9,
      "outputs": [
        {
          "output_type": "display_data",
          "data": {
            "text/plain": [
              "<Figure size 432x288 with 1 Axes>"
            ],
            "image/png": "[encoded data removed]"
          },
          "metadata": {
            "needs_background": "light"
          }
        }
      ]
    },
    {
      "cell_type": "code",
      "source": [
        "fig, axs = plt.subplots(2, 16, figsize=(15,2))\n",
        "for i in range(2):\n",
        "  for j in range(16):\n",
        "    axs[i, j].imshow(conv_weights[:,:,0,i*16 + j], vmin=-0.5, vmax=0.5)\n",
        "    axs[i, j].axis('off')\n",
        "plt.show()"
      ],
      "metadata": {
        "colab": {
          "base_uri": "https://localhost:8080/",
          "height": 134
        },
        "id": "vuzm-2Y7riss",
        "outputId": "168ac33f-3cca-4f97-d51a-cb97265a3df6"
      },
      "execution_count": 10,
      "outputs": [
        {
          "output_type": "display_data",
          "data": {
            "text/plain": [
              "<Figure size 1080x144 with 32 Axes>"
            ],
            "image/png": "[encoded data removed]"
          },
          "metadata": {
            "needs_background": "light"
          }
        }
      ]
    },
    {
      "cell_type": "code",
      "source": [
        "# 빈 합성곱 신경망\n",
        "no_training_model = keras.Sequential()\n",
        "no_training_model.add(keras.layers.Conv2D(32, kernel_size=3, activation='relu', padding='same', input_shape=(28,28,1)))"
      ],
      "metadata": {
        "id": "D6AegzISsLJF"
      },
      "execution_count": 11,
      "outputs": []
    },
    {
      "cell_type": "code",
      "source": [
        "no_training_conv = no_training_model.layers[0]\n",
        "print(no_training_conv.weights[0].shape)"
      ],
      "metadata": {
        "colab": {
          "base_uri": "https://localhost:8080/"
        },
        "id": "X8QSb-vVtKn_",
        "outputId": "9897de2e-e9b8-4cab-ce6c-457bc6de719b"
      },
      "execution_count": 12,
      "outputs": [
        {
          "output_type": "stream",
          "name": "stdout",
          "text": [
            "(3, 3, 1, 32)\n"
          ]
        }
      ]
    },
    {
      "cell_type": "code",
      "source": [
        "no_training_weights = no_training_model.weights[0].numpy()\n",
        "print(no_training_weights.mean(), no_training_weights.std())"
      ],
      "metadata": {
        "colab": {
          "base_uri": "https://localhost:8080/"
        },
        "id": "j_7cixtPtdsg",
        "outputId": "36affb40-c4e7-403c-f5be-4ea10c1c1cea"
      },
      "execution_count": 13,
      "outputs": [
        {
          "output_type": "stream",
          "name": "stdout",
          "text": [
            "-0.0023361398 0.08756672\n"
          ]
        }
      ]
    },
    {
      "cell_type": "code",
      "source": [
        "plt.hist(no_training_weights.reshape(-1, 1))\n",
        "plt.xlabel('weight')\n",
        "plt.ylabel('count')\n",
        "plt.show()"
      ],
      "metadata": {
        "colab": {
          "base_uri": "https://localhost:8080/",
          "height": 279
        },
        "id": "s6F6Xs6YtrI_",
        "outputId": "10504689-268e-4a62-bcd5-4f0874eb4818"
      },
      "execution_count": 14,
      "outputs": [
        {
          "output_type": "display_data",
          "data": {
            "text/plain": [
              "<Figure size 432x288 with 1 Axes>"
            ],
            "image/png": "[encoded data removed]"
          },
          "metadata": {
            "needs_background": "light"
          }
        }
      ]
    },
    {
      "cell_type": "code",
      "source": [
        "# 훈련되지 않은 모델의 가중치가 이러한 이유는 텐서플로가 신경망의 가중치를 처음 초기화할 때 균등 분포에서 랜덤하게 값을 선택하기 때문"
      ],
      "metadata": {
        "id": "0pixrzTktv6I"
      },
      "execution_count": 15,
      "outputs": []
    },
    {
      "cell_type": "code",
      "source": [
        "fig, axs = plt.subplots(2, 16, figsize=(15,2))\n",
        "for i in range(2):\n",
        "  for j in range(16):\n",
        "    axs[i, j].imshow(no_training_weights[:,:,0,i*16 + j], vmin=-0.5, vmax=0.5)\n",
        "    axs[i, j].axis('off')\n",
        "plt.show()"
      ],
      "metadata": {
        "colab": {
          "base_uri": "https://localhost:8080/",
          "height": 134
        },
        "id": "fPM9lDGnt56f",
        "outputId": "3caba342-193b-4d88-d302-6ecbbc95302d"
      },
      "execution_count": 16,
      "outputs": [
        {
          "output_type": "display_data",
          "data": {
            "text/plain": [
              "<Figure size 1080x144 with 32 Axes>"
            ],
            "image/png": "[encoded data removed]"
          },
          "metadata": {
            "needs_background": "light"
          }
        }
      ]
    },
    {
      "cell_type": "code",
      "source": [
        "print(model.input)"
      ],
      "metadata": {
        "colab": {
          "base_uri": "https://localhost:8080/"
        },
        "id": "GRnRt2wHuNi6",
        "outputId": "39e23892-edfb-4b19-c516-f4bfe99bea79"
      },
      "execution_count": 17,
      "outputs": [
        {
          "output_type": "stream",
          "name": "stdout",
          "text": [
            "KerasTensor(type_spec=TensorSpec(shape=(None, 28, 28, 1), dtype=tf.float32, name='conv2d_input'), name='conv2d_input', description=\"created by layer 'conv2d_input'\")\n"
          ]
        }
      ]
    },
    {
      "cell_type": "code",
      "source": [
        "conv_acti = keras.Model(model.input, model.layers[0].output)"
      ],
      "metadata": {
        "id": "SqKGuktC1Hkt"
      },
      "execution_count": 18,
      "outputs": []
    },
    {
      "cell_type": "code",
      "source": [
        "(train_input, train_target), (test_input, test_target) = keras.datasets.fashion_mnist.load_data()\n",
        "plt.imshow(train_input[0], cmap='gray_r')\n",
        "plt.show()"
      ],
      "metadata": {
        "colab": {
          "base_uri": "https://localhost:8080/",
          "height": 265
        },
        "id": "k7kL_Tx31V-1",
        "outputId": "53b8ee4d-65fd-433a-9e1d-b7a1edad37e2"
      },
      "execution_count": 19,
      "outputs": [
        {
          "output_type": "display_data",
          "data": {
            "text/plain": [
              "<Figure size 432x288 with 1 Axes>"
            ],
            "image/png": "[encoded data removed]"
          },
          "metadata": {
            "needs_background": "light"
          }
        }
      ]
    },
    {
      "cell_type": "code",
      "source": [
        "# 특성 맵 출력\n",
        "inputs = train_input[0:1].reshape(-1, 28, 28, 1) / 255.0\n",
        "feature_maps = conv_acti.predict(inputs)"
      ],
      "metadata": {
        "id": "CtZ4yEW71paW"
      },
      "execution_count": 21,
      "outputs": []
    },
    {
      "cell_type": "code",
      "source": [
        "print(feature_maps.shape)"
      ],
      "metadata": {
        "colab": {
          "base_uri": "https://localhost:8080/"
        },
        "id": "-d9sUSCc2GFe",
        "outputId": "a9917ca7-1aa1-4e90-d2d9-b7a6cc2d169b"
      },
      "execution_count": 22,
      "outputs": [
        {
          "output_type": "stream",
          "name": "stdout",
          "text": [
            "(1, 28, 28, 32)\n"
          ]
        }
      ]
    },
    {
      "cell_type": "code",
      "source": [
        "fig, axs = plt.subplots(4, 8, figsize=(15, 8))\n",
        "for i in range(4):\n",
        "  for j in range(8):\n",
        "    axs[i, j].imshow(feature_maps[0,:,:,i*8+j])\n",
        "    axs[i, j].axis('off')\n",
        "plt.show()"
      ],
      "metadata": {
        "colab": {
          "base_uri": "https://localhost:8080/",
          "height": 460
        },
        "id": "bmNPDn5a2Kwp",
        "outputId": "0255584a-8a09-485f-c144-f2149751e206"
      },
      "execution_count": 23,
      "outputs": [
        {
          "output_type": "display_data",
          "data": {
            "text/plain": [
              "<Figure size 1080x576 with 32 Axes>"
            ],
            "image/png": "[encoded data removed]"
          },
          "metadata": {
            "needs_background": "light"
          }
        }
      ]
    },
    {
      "cell_type": "code",
      "source": [
        "conv2_acti = keras.Model(model.input, model.layers[2].output)"
      ],
      "metadata": {
        "id": "3qVl3d5p2z0Q"
      },
      "execution_count": 24,
      "outputs": []
    },
    {
      "cell_type": "code",
      "source": [
        "inputs = train_input[0:1].reshape(1, 28, 28, 1) / 255.0\n",
        "feature_maps = conv2_acti.predict(inputs)"
      ],
      "metadata": {
        "id": "LCHM7pG33IaQ"
      },
      "execution_count": 26,
      "outputs": []
    },
    {
      "cell_type": "code",
      "source": [
        "print(feature_maps.shape)"
      ],
      "metadata": {
        "colab": {
          "base_uri": "https://localhost:8080/"
        },
        "id": "y4iWKcMI3PpQ",
        "outputId": "d985268f-982a-4f83-ab87-ab6e6ed29ec3"
      },
      "execution_count": 27,
      "outputs": [
        {
          "output_type": "stream",
          "name": "stdout",
          "text": [
            "(1, 14, 14, 64)\n"
          ]
        }
      ]
    },
    {
      "cell_type": "code",
      "source": [
        "fig, axs = plt.subplots(8, 8, figsize=(12, 12))\n",
        "for i in range(8):\n",
        "  for j in range(8):\n",
        "    axs[i, j].imshow(feature_maps[0,:,:,i*8+j])\n",
        "    axs[i, j].axis('off')\n",
        "plt.show()"
      ],
      "metadata": {
        "colab": {
          "base_uri": "https://localhost:8080/",
          "height": 683
        },
        "id": "B68vSc8R3ZSn",
        "outputId": "272f9519-77f2-45ac-9994-c55a38bf41ef"
      },
      "execution_count": 28,
      "outputs": [
        {
          "output_type": "display_data",
          "data": {
            "text/plain": [
              "<Figure size 864x864 with 64 Axes>"
            ],
            "image/png": "[encoded data removed]"
          },
          "metadata": {
            "needs_background": "light"
          }
        }
      ]
    },
    {
      "cell_type": "code",
      "source": [
        ""
      ],
      "metadata": {
        "id": "JFoIQDpR3gPs"
      },
      "execution_count": null,
      "outputs": []
    }
  ]
}