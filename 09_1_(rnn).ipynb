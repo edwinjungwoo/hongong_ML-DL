{
  "nbformat": 4,
  "nbformat_minor": 0,
  "metadata": {
    "colab": {
      "name": "09_1_(rnn).ipynb",
      "provenance": [],
      "collapsed_sections": []
    },
    "kernelspec": {
      "name": "python3",
      "display_name": "Python 3"
    },
    "language_info": {
      "name": "python"
    }
  },
  "cells": [
    {
      "cell_type": "code",
      "execution_count": 1,
      "metadata": {
        "id": "ThR5ncMi7kMP"
      },
      "outputs": [],
      "source": [
        "# 순차 데이터: 텍스트나 시계열 데이터와 같이 순서에 의미가 있는 데이터. 대표적인 순차 데이터로는 글, 대화, 일자별 날씨, 일자별 판매 실적 등"
      ]
    },
    {
      "cell_type": "code",
      "source": [
        "# 순환 신경망(RNN): 순차 데이터에 잘 맞는 인공 신경망의 한 종류. 순차 데이터를 처리하기 위해 고안된 순환층을 1개 이상 사용한 신경망"
      ],
      "metadata": {
        "id": "VEXILuF-EHuy"
      },
      "execution_count": 2,
      "outputs": []
    },
    {
      "cell_type": "code",
      "source": [
        "# 순환 신경망에서는 종종 순환층을 '셀'이라 부름, 일반적인 인공 신경망과 마찬가지로 하나의 셀은 여러 개의 뉴런으로 구성\n",
        "# 순환 시경망에서는 셀의 출력을 특별히 은닉 상태로 부름, 은닉 상태는 다음 층으로 전달된 뿐만 아니라 셀이 다음 타임스텝의 데이터를 처리할 때 재사용"
      ],
      "metadata": {
        "id": "iBgxLS2wEPYx"
      },
      "execution_count": 3,
      "outputs": []
    },
    {
      "cell_type": "code",
      "source": [
        ""
      ],
      "metadata": {
        "id": "aatOYsoMEghq"
      },
      "execution_count": null,
      "outputs": []
    }
  ]
}