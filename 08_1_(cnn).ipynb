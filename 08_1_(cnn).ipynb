{
  "nbformat": 4,
  "nbformat_minor": 0,
  "metadata": {
    "colab": {
      "name": "08_1_(cnn).ipynb",
      "provenance": [],
      "collapsed_sections": []
    },
    "kernelspec": {
      "name": "python3",
      "display_name": "Python 3"
    },
    "language_info": {
      "name": "python"
    }
  },
  "cells": [
    {
      "cell_type": "code",
      "execution_count": 4,
      "metadata": {
        "id": "pcQ2MqdeS3Ss"
      },
      "outputs": [],
      "source": [
        "from tensorflow import keras\n",
        "model = keras.Sequential()\n",
        "model.add(keras.layers.Conv2D(10, kernel_size=(3,3), activation='relu'))"
      ]
    },
    {
      "cell_type": "code",
      "source": [
        "a = keras.layers.Conv2D(10, kernel_size=(3,3), activation='relu', padding='same')    # 패딩"
      ],
      "metadata": {
        "id": "rrMy2Tl7z2lx"
      },
      "execution_count": 7,
      "outputs": []
    },
    {
      "cell_type": "code",
      "source": [
        "b = keras.layers.Conv2D(10, kernel_size=(3,3), activation='relu', padding='same', strides=1)    # 패딩, 스트라이드"
      ],
      "metadata": {
        "id": "mxrosAf-0Uop"
      },
      "execution_count": 8,
      "outputs": []
    },
    {
      "cell_type": "code",
      "source": [
        "# 풀링\n",
        "c = keras.layers.MaxPooling2D(2)"
      ],
      "metadata": {
        "id": "4ggAEyMx0p2Y"
      },
      "execution_count": 9,
      "outputs": []
    },
    {
      "cell_type": "code",
      "source": [
        ""
      ],
      "metadata": {
        "id": "i879ItEw2Z6N"
      },
      "execution_count": null,
      "outputs": []
    }
  ]
}