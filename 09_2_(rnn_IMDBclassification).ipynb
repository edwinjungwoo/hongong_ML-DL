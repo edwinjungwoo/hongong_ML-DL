{
  "nbformat": 4,
  "nbformat_minor": 0,
  "metadata": {
    "colab": {
      "name": "09_2_(rnn_IMDBclassification).ipynb",
      "provenance": [],
      "collapsed_sections": []
    },
    "kernelspec": {
      "name": "python3",
      "display_name": "Python 3"
    },
    "language_info": {
      "name": "python"
    }
  },
  "cells": [
    {
      "cell_type": "code",
      "execution_count": 1,
      "metadata": {
        "colab": {
          "base_uri": "https://localhost:8080/"
        },
        "id": "4Hs7qTNyEngd",
        "outputId": "db1b5e64-a7ea-4448-a4ed-f4f737eb52fc"
      },
      "outputs": [
        {
          "output_type": "stream",
          "name": "stdout",
          "text": [
            "Downloading data from https://storage.googleapis.com/tensorflow/tf-keras-datasets/imdb.npz\n",
            "17465344/17464789 [==============================] - 0s 0us/step\n",
            "17473536/17464789 [==============================] - 0s 0us/step\n"
          ]
        }
      ],
      "source": [
        "from tensorflow.keras.datasets import imdb\n",
        "(train_input, train_target), (test_input, test_target) = imdb.load_data(num_words=500)"
      ]
    },
    {
      "cell_type": "code",
      "source": [
        "print(train_input.shape, test_input.shape)"
      ],
      "metadata": {
        "colab": {
          "base_uri": "https://localhost:8080/"
        },
        "id": "qVoUHYcyGa1G",
        "outputId": "2a4a4557-3312-4683-ebf9-0f58b2fc5629"
      },
      "execution_count": 2,
      "outputs": [
        {
          "output_type": "stream",
          "name": "stdout",
          "text": [
            "(25000,) (25000,)\n"
          ]
        }
      ]
    },
    {
      "cell_type": "code",
      "source": [
        "print(train_target.shape, test_target.shape)"
      ],
      "metadata": {
        "colab": {
          "base_uri": "https://localhost:8080/"
        },
        "id": "7rk48GowGivm",
        "outputId": "87c423da-daea-4470-9466-90b5906b3716"
      },
      "execution_count": 3,
      "outputs": [
        {
          "output_type": "stream",
          "name": "stdout",
          "text": [
            "(25000,) (25000,)\n"
          ]
        }
      ]
    },
    {
      "cell_type": "code",
      "source": [
        "print(len(train_input[0]))\n",
        "print(len(train_input[1]))"
      ],
      "metadata": {
        "colab": {
          "base_uri": "https://localhost:8080/"
        },
        "id": "ZSIbLPJ0G78a",
        "outputId": "7e165837-4c74-4f97-f077-3ad3f58b01e4"
      },
      "execution_count": 4,
      "outputs": [
        {
          "output_type": "stream",
          "name": "stdout",
          "text": [
            "218\n",
            "189\n"
          ]
        }
      ]
    },
    {
      "cell_type": "code",
      "source": [
        "print(train_input[0])"
      ],
      "metadata": {
        "colab": {
          "base_uri": "https://localhost:8080/"
        },
        "id": "xCq5S9OeHGQ9",
        "outputId": "c5fb8bba-8d61-4589-e7fa-558debaa7a22"
      },
      "execution_count": 5,
      "outputs": [
        {
          "output_type": "stream",
          "name": "stdout",
          "text": [
            "[1, 14, 22, 16, 43, 2, 2, 2, 2, 65, 458, 2, 66, 2, 4, 173, 36, 256, 5, 25, 100, 43, 2, 112, 50, 2, 2, 9, 35, 480, 284, 5, 150, 4, 172, 112, 167, 2, 336, 385, 39, 4, 172, 2, 2, 17, 2, 38, 13, 447, 4, 192, 50, 16, 6, 147, 2, 19, 14, 22, 4, 2, 2, 469, 4, 22, 71, 87, 12, 16, 43, 2, 38, 76, 15, 13, 2, 4, 22, 17, 2, 17, 12, 16, 2, 18, 2, 5, 62, 386, 12, 8, 316, 8, 106, 5, 4, 2, 2, 16, 480, 66, 2, 33, 4, 130, 12, 16, 38, 2, 5, 25, 124, 51, 36, 135, 48, 25, 2, 33, 6, 22, 12, 215, 28, 77, 52, 5, 14, 407, 16, 82, 2, 8, 4, 107, 117, 2, 15, 256, 4, 2, 7, 2, 5, 2, 36, 71, 43, 2, 476, 26, 400, 317, 46, 7, 4, 2, 2, 13, 104, 88, 4, 381, 15, 297, 98, 32, 2, 56, 26, 141, 6, 194, 2, 18, 4, 226, 22, 21, 134, 476, 26, 480, 5, 144, 30, 2, 18, 51, 36, 28, 224, 92, 25, 104, 4, 226, 65, 16, 38, 2, 88, 12, 16, 283, 5, 16, 2, 113, 103, 32, 15, 16, 2, 19, 178, 32]\n"
          ]
        }
      ]
    },
    {
      "cell_type": "code",
      "source": [
        "print(train_target[:20])"
      ],
      "metadata": {
        "colab": {
          "base_uri": "https://localhost:8080/"
        },
        "id": "JduRsBxxHJxR",
        "outputId": "e22a0e1f-ca0b-4ffc-d39f-14ab89970ec4"
      },
      "execution_count": 6,
      "outputs": [
        {
          "output_type": "stream",
          "name": "stdout",
          "text": [
            "[1 0 0 1 0 0 1 0 1 0 1 0 0 0 0 0 1 1 0 1]\n"
          ]
        }
      ]
    },
    {
      "cell_type": "code",
      "source": [
        "from sklearn.model_selection import train_test_split\n",
        "train_input, val_input, train_target, val_target = train_test_split(train_input, train_target, test_size=0.2, random_state=42)"
      ],
      "metadata": {
        "id": "gIDa9hnJHRa_"
      },
      "execution_count": 7,
      "outputs": []
    },
    {
      "cell_type": "code",
      "source": [
        "import numpy as np\n",
        "lengths = np.array([len(x) for x in train_input])"
      ],
      "metadata": {
        "id": "yxCQUfPNHp0p"
      },
      "execution_count": 8,
      "outputs": []
    },
    {
      "cell_type": "code",
      "source": [
        "print(np.mean(lengths), np.median(lengths))"
      ],
      "metadata": {
        "colab": {
          "base_uri": "https://localhost:8080/"
        },
        "id": "TgzlRzLIH3P2",
        "outputId": "0c66e599-5502-4752-d528-11b02f2848cc"
      },
      "execution_count": 9,
      "outputs": [
        {
          "output_type": "stream",
          "name": "stdout",
          "text": [
            "239.00925 178.0\n"
          ]
        }
      ]
    },
    {
      "cell_type": "code",
      "source": [
        "import matplotlib.pyplot as plt\n",
        "plt.hist(lengths)\n",
        "plt.xlabel('lengths')\n",
        "plt.ylabel('frequency')\n",
        "plt.show()"
      ],
      "metadata": {
        "colab": {
          "base_uri": "https://localhost:8080/",
          "height": 279
        },
        "id": "Z8jSBHTnH8Ik",
        "outputId": "2f818d0b-0370-4c54-f91d-bdd1930f78db"
      },
      "execution_count": 10,
      "outputs": [
        {
          "output_type": "display_data",
          "data": {
            "text/plain": [
              "<Figure size 432x288 with 1 Axes>"
            ],
            "image/png": "[encoded data removed]"
          },
          "metadata": {
            "needs_background": "light"
          }
        }
      ]
    },
    {
      "cell_type": "code",
      "source": [
        "from tensorflow.keras.preprocessing.sequence import pad_sequences\n",
        "train_seq = pad_sequences(train_input, maxlen=100)"
      ],
      "metadata": {
        "id": "asDf0e8RJMgp"
      },
      "execution_count": 11,
      "outputs": []
    },
    {
      "cell_type": "code",
      "source": [
        "print(train_seq.shape)    # 2000개 리스트의 배열에서 길이를 100으로 맞춘 train_seq는 이제 (20000, 100)크기의 2차원 배열"
      ],
      "metadata": {
        "colab": {
          "base_uri": "https://localhost:8080/"
        },
        "id": "5Ra8ilMtJv6p",
        "outputId": "5517d8ab-6721-425b-da05-a72476475d81"
      },
      "execution_count": 13,
      "outputs": [
        {
          "output_type": "stream",
          "name": "stdout",
          "text": [
            "(20000, 100)\n"
          ]
        }
      ]
    },
    {
      "cell_type": "code",
      "source": [
        "print(train_seq[0])"
      ],
      "metadata": {
        "colab": {
          "base_uri": "https://localhost:8080/"
        },
        "id": "_mPr63i0J3PQ",
        "outputId": "e83df88c-780a-4b29-e22c-3f281bf8f3de"
      },
      "execution_count": 14,
      "outputs": [
        {
          "output_type": "stream",
          "name": "stdout",
          "text": [
            "[ 10   4  20   9   2 364 352   5  45   6   2   2  33 269   8   2 142   2\n",
            "   5   2  17  73  17 204   5   2  19  55   2   2  92  66 104  14  20  93\n",
            "  76   2 151  33   4  58  12 188   2 151  12 215  69 224 142  73 237   6\n",
            "   2   7   2   2 188   2 103  14  31  10  10 451   7   2   5   2  80  91\n",
            "   2  30   2  34  14  20 151  50  26 131  49   2  84  46  50  37  80  79\n",
            "   6   2  46   7  14  20  10  10 470 158]\n"
          ]
        }
      ]
    },
    {
      "cell_type": "code",
      "source": [
        "print(train_input[0][-10:])"
      ],
      "metadata": {
        "colab": {
          "base_uri": "https://localhost:8080/"
        },
        "id": "NHnjdfBWKG3n",
        "outputId": "67d3abf2-51c8-4d5c-d217-44078ab065c5"
      },
      "execution_count": 15,
      "outputs": [
        {
          "output_type": "stream",
          "name": "stdout",
          "text": [
            "[6, 2, 46, 7, 14, 20, 10, 10, 470, 158]\n"
          ]
        }
      ]
    },
    {
      "cell_type": "code",
      "source": [
        "print(train_seq[5])    # 앞부분에 0이 있으므로 샘플의 길이는 100 미만"
      ],
      "metadata": {
        "colab": {
          "base_uri": "https://localhost:8080/"
        },
        "id": "LSKbik6KKNZe",
        "outputId": "4a2fe9a8-a6e3-46cf-f3f1-3850f2509d1d"
      },
      "execution_count": 16,
      "outputs": [
        {
          "output_type": "stream",
          "name": "stdout",
          "text": [
            "[  0   0   0   0   1   2 195  19  49   2   2 190   4   2 352   2 183  10\n",
            "  10  13  82  79   4   2  36  71 269   8   2  25  19  49   7   4   2   2\n",
            "   2   2   2  10  10  48  25  40   2  11   2   2  40   2   2   5   4   2\n",
            "   2  95  14 238  56 129   2  10  10  21   2  94 364 352   2   2  11 190\n",
            "  24 484   2   7  94 205 405  10  10  87   2  34  49   2   7   2   2   2\n",
            "   2   2 290   2  46  48  64  18   4   2]\n"
          ]
        }
      ]
    },
    {
      "cell_type": "code",
      "source": [
        "val_seq = pad_sequences(val_input, maxlen=100)"
      ],
      "metadata": {
        "id": "Cj4_-gbPOAhB"
      },
      "execution_count": 18,
      "outputs": []
    },
    {
      "cell_type": "code",
      "source": [
        "from tensorflow import keras\n",
        "model = keras.Sequential()    # 모델 생성\n",
        "model.add(keras.layers.SimpleRNN(8, input_shape=(100, 500)))    # SimpleRNN 클래스로 순환층 생성\n",
        "model.add(keras.layers.Dense(1, activation='sigmoid'))    # 밀집층 생성"
      ],
      "metadata": {
        "id": "gj152TM5OGhZ"
      },
      "execution_count": 19,
      "outputs": []
    },
    {
      "cell_type": "code",
      "source": [
        "train_oh = keras.utils.to_categorical(train_seq)"
      ],
      "metadata": {
        "id": "7rzYtoCzP6pZ"
      },
      "execution_count": 20,
      "outputs": []
    },
    {
      "cell_type": "code",
      "source": [
        "print(train_oh.shape)    # 정수 하나마다 모두 500차원의 배열로 변경"
      ],
      "metadata": {
        "colab": {
          "base_uri": "https://localhost:8080/"
        },
        "id": "LFZDO0PnQsKz",
        "outputId": "e7da2f4b-1948-45f2-f508-7d8d1335b076"
      },
      "execution_count": 21,
      "outputs": [
        {
          "output_type": "stream",
          "name": "stdout",
          "text": [
            "(20000, 100, 500)\n"
          ]
        }
      ]
    },
    {
      "cell_type": "code",
      "source": [
        "print(train_oh[0][0][:12])"
      ],
      "metadata": {
        "colab": {
          "base_uri": "https://localhost:8080/"
        },
        "id": "bKYibFDoQ2O5",
        "outputId": "8d53223b-46a0-4678-d9b2-45776f3b0359"
      },
      "execution_count": 22,
      "outputs": [
        {
          "output_type": "stream",
          "name": "stdout",
          "text": [
            "[0. 0. 0. 0. 0. 0. 0. 0. 0. 0. 1. 0.]\n"
          ]
        }
      ]
    },
    {
      "cell_type": "code",
      "source": [
        "print(np.sum(train_oh[0][0]))"
      ],
      "metadata": {
        "colab": {
          "base_uri": "https://localhost:8080/"
        },
        "id": "DCVTJjo4Q-ib",
        "outputId": "bd4b5363-a26e-4b03-e4ad-2f0e70fabe15"
      },
      "execution_count": 23,
      "outputs": [
        {
          "output_type": "stream",
          "name": "stdout",
          "text": [
            "1.0\n"
          ]
        }
      ]
    },
    {
      "cell_type": "code",
      "source": [
        "val_oh = keras.utils.to_categorical(val_seq)"
      ],
      "metadata": {
        "id": "hX9VKhvaRB00"
      },
      "execution_count": 24,
      "outputs": []
    },
    {
      "cell_type": "code",
      "source": [
        "model.summary()"
      ],
      "metadata": {
        "colab": {
          "base_uri": "https://localhost:8080/"
        },
        "id": "aVtseRkFRsmo",
        "outputId": "36363a05-0522-403a-f415-c431eaf6d9da"
      },
      "execution_count": 25,
      "outputs": [
        {
          "output_type": "stream",
          "name": "stdout",
          "text": [
            "Model: \"sequential\"\n",
            "_________________________________________________________________\n",
            " Layer (type)                Output Shape              Param #   \n",
            "=================================================================\n",
            " simple_rnn (SimpleRNN)      (None, 8)                 4072      \n",
            "                                                                 \n",
            " dense (Dense)               (None, 1)                 9         \n",
            "                                                                 \n",
            "=================================================================\n",
            "Total params: 4,081\n",
            "Trainable params: 4,081\n",
            "Non-trainable params: 0\n",
            "_________________________________________________________________\n"
          ]
        }
      ]
    },
    {
      "cell_type": "code",
      "source": [
        "rmsprop = keras.optimizers.RMSprop(learning_rate=1e-4)\n",
        "\n",
        "model.compile(optimizer=rmsprop, loss='binary_crossentropy', metrics=['accuracy'])\n",
        "checkpoint_cb = keras.callbacks.ModelCheckpoint('best-simplernn-model.h5')\n",
        "early_stopping_cb = keras.callbacks.EarlyStopping(patience=3, restore_best_weights=True)\n",
        "history = model.fit(train_oh, train_target, epochs=100, batch_size=64, \n",
        "                    validation_data=(val_oh, val_target), \n",
        "                    callbacks=[checkpoint_cb, early_stopping_cb])"
      ],
      "metadata": {
        "colab": {
          "base_uri": "https://localhost:8080/"
        },
        "id": "yjW-s06PRuYX",
        "outputId": "14804def-5de6-4852-db65-40c919df7e62"
      },
      "execution_count": 27,
      "outputs": [
        {
          "output_type": "stream",
          "name": "stdout",
          "text": [
            "Epoch 1/100\n",
            "313/313 [==============================] - 16s 44ms/step - loss: 0.6985 - accuracy: 0.5067 - val_loss: 0.6976 - val_accuracy: 0.5028\n",
            "Epoch 2/100\n",
            "313/313 [==============================] - 13s 41ms/step - loss: 0.6932 - accuracy: 0.5203 - val_loss: 0.6929 - val_accuracy: 0.5200\n",
            "Epoch 3/100\n",
            "313/313 [==============================] - 19s 62ms/step - loss: 0.6848 - accuracy: 0.5552 - val_loss: 0.6851 - val_accuracy: 0.5572\n",
            "Epoch 4/100\n",
            "313/313 [==============================] - 24s 76ms/step - loss: 0.6749 - accuracy: 0.5939 - val_loss: 0.6756 - val_accuracy: 0.5916\n",
            "Epoch 5/100\n",
            "313/313 [==============================] - 22s 72ms/step - loss: 0.6643 - accuracy: 0.6250 - val_loss: 0.6664 - val_accuracy: 0.6162\n",
            "Epoch 6/100\n",
            "313/313 [==============================] - 18s 58ms/step - loss: 0.6529 - accuracy: 0.6532 - val_loss: 0.6552 - val_accuracy: 0.6406\n",
            "Epoch 7/100\n",
            "313/313 [==============================] - 13s 43ms/step - loss: 0.6398 - accuracy: 0.6755 - val_loss: 0.6444 - val_accuracy: 0.6622\n",
            "Epoch 8/100\n",
            "313/313 [==============================] - 13s 42ms/step - loss: 0.6259 - accuracy: 0.6966 - val_loss: 0.6308 - val_accuracy: 0.6768\n",
            "Epoch 9/100\n",
            "313/313 [==============================] - 14s 45ms/step - loss: 0.6114 - accuracy: 0.7102 - val_loss: 0.6183 - val_accuracy: 0.6886\n",
            "Epoch 10/100\n",
            "313/313 [==============================] - 15s 47ms/step - loss: 0.5964 - accuracy: 0.7248 - val_loss: 0.6059 - val_accuracy: 0.7006\n",
            "Epoch 11/100\n",
            "313/313 [==============================] - 13s 43ms/step - loss: 0.5814 - accuracy: 0.7366 - val_loss: 0.5925 - val_accuracy: 0.7100\n",
            "Epoch 12/100\n",
            "313/313 [==============================] - 14s 43ms/step - loss: 0.5664 - accuracy: 0.7462 - val_loss: 0.5833 - val_accuracy: 0.7120\n",
            "Epoch 13/100\n",
            "313/313 [==============================] - 14s 43ms/step - loss: 0.5525 - accuracy: 0.7545 - val_loss: 0.5692 - val_accuracy: 0.7240\n",
            "Epoch 14/100\n",
            "313/313 [==============================] - 13s 42ms/step - loss: 0.5388 - accuracy: 0.7612 - val_loss: 0.5535 - val_accuracy: 0.7354\n",
            "Epoch 15/100\n",
            "313/313 [==============================] - 13s 41ms/step - loss: 0.5265 - accuracy: 0.7687 - val_loss: 0.5441 - val_accuracy: 0.7408\n",
            "Epoch 16/100\n",
            "313/313 [==============================] - 13s 43ms/step - loss: 0.5151 - accuracy: 0.7727 - val_loss: 0.5329 - val_accuracy: 0.7498\n",
            "Epoch 17/100\n",
            "313/313 [==============================] - 14s 44ms/step - loss: 0.5050 - accuracy: 0.7753 - val_loss: 0.5253 - val_accuracy: 0.7508\n",
            "Epoch 18/100\n",
            "313/313 [==============================] - 14s 44ms/step - loss: 0.4957 - accuracy: 0.7796 - val_loss: 0.5143 - val_accuracy: 0.7618\n",
            "Epoch 19/100\n",
            "313/313 [==============================] - 14s 44ms/step - loss: 0.4867 - accuracy: 0.7843 - val_loss: 0.5083 - val_accuracy: 0.7606\n",
            "Epoch 20/100\n",
            "313/313 [==============================] - 13s 42ms/step - loss: 0.4792 - accuracy: 0.7888 - val_loss: 0.5011 - val_accuracy: 0.7692\n",
            "Epoch 21/100\n",
            "313/313 [==============================] - 13s 42ms/step - loss: 0.4718 - accuracy: 0.7919 - val_loss: 0.4946 - val_accuracy: 0.7706\n",
            "Epoch 22/100\n",
            "313/313 [==============================] - 14s 44ms/step - loss: 0.4651 - accuracy: 0.7956 - val_loss: 0.4895 - val_accuracy: 0.7728\n",
            "Epoch 23/100\n",
            "313/313 [==============================] - 13s 43ms/step - loss: 0.4590 - accuracy: 0.7987 - val_loss: 0.4876 - val_accuracy: 0.7728\n",
            "Epoch 24/100\n",
            "313/313 [==============================] - 13s 43ms/step - loss: 0.4536 - accuracy: 0.8013 - val_loss: 0.4808 - val_accuracy: 0.7792\n",
            "Epoch 25/100\n",
            "313/313 [==============================] - 17s 55ms/step - loss: 0.4487 - accuracy: 0.8041 - val_loss: 0.4797 - val_accuracy: 0.7786\n",
            "Epoch 26/100\n",
            "313/313 [==============================] - 17s 55ms/step - loss: 0.4449 - accuracy: 0.8037 - val_loss: 0.4777 - val_accuracy: 0.7812\n",
            "Epoch 27/100\n",
            "313/313 [==============================] - 17s 55ms/step - loss: 0.4410 - accuracy: 0.8058 - val_loss: 0.4742 - val_accuracy: 0.7812\n",
            "Epoch 28/100\n",
            "313/313 [==============================] - 20s 65ms/step - loss: 0.4379 - accuracy: 0.8095 - val_loss: 0.4709 - val_accuracy: 0.7862\n",
            "Epoch 29/100\n",
            "313/313 [==============================] - 18s 58ms/step - loss: 0.4347 - accuracy: 0.8097 - val_loss: 0.4694 - val_accuracy: 0.7828\n",
            "Epoch 30/100\n",
            "313/313 [==============================] - 16s 52ms/step - loss: 0.4322 - accuracy: 0.8112 - val_loss: 0.4691 - val_accuracy: 0.7832\n",
            "Epoch 31/100\n",
            "313/313 [==============================] - 21s 67ms/step - loss: 0.4297 - accuracy: 0.8124 - val_loss: 0.4707 - val_accuracy: 0.7844\n",
            "Epoch 32/100\n",
            "313/313 [==============================] - 15s 48ms/step - loss: 0.4273 - accuracy: 0.8133 - val_loss: 0.4672 - val_accuracy: 0.7838\n",
            "Epoch 33/100\n",
            "313/313 [==============================] - 13s 41ms/step - loss: 0.4256 - accuracy: 0.8152 - val_loss: 0.4659 - val_accuracy: 0.7866\n",
            "Epoch 34/100\n",
            "313/313 [==============================] - 13s 41ms/step - loss: 0.4236 - accuracy: 0.8153 - val_loss: 0.4650 - val_accuracy: 0.7868\n",
            "Epoch 35/100\n",
            "313/313 [==============================] - 13s 41ms/step - loss: 0.4220 - accuracy: 0.8170 - val_loss: 0.4715 - val_accuracy: 0.7814\n",
            "Epoch 36/100\n",
            "313/313 [==============================] - 14s 43ms/step - loss: 0.4204 - accuracy: 0.8166 - val_loss: 0.4637 - val_accuracy: 0.7866\n",
            "Epoch 37/100\n",
            "313/313 [==============================] - 13s 42ms/step - loss: 0.4186 - accuracy: 0.8177 - val_loss: 0.4637 - val_accuracy: 0.7858\n",
            "Epoch 38/100\n",
            "313/313 [==============================] - 14s 43ms/step - loss: 0.4175 - accuracy: 0.8188 - val_loss: 0.4644 - val_accuracy: 0.7848\n",
            "Epoch 39/100\n",
            "313/313 [==============================] - 14s 43ms/step - loss: 0.4161 - accuracy: 0.8195 - val_loss: 0.4603 - val_accuracy: 0.7888\n",
            "Epoch 40/100\n",
            "313/313 [==============================] - 14s 45ms/step - loss: 0.4150 - accuracy: 0.8192 - val_loss: 0.4638 - val_accuracy: 0.7872\n",
            "Epoch 41/100\n",
            "313/313 [==============================] - 13s 42ms/step - loss: 0.4133 - accuracy: 0.8203 - val_loss: 0.4631 - val_accuracy: 0.7896\n",
            "Epoch 42/100\n",
            "313/313 [==============================] - 13s 42ms/step - loss: 0.4123 - accuracy: 0.8210 - val_loss: 0.4615 - val_accuracy: 0.7884\n"
          ]
        }
      ]
    },
    {
      "cell_type": "code",
      "source": [
        "plt.plot(history.history['loss'])\n",
        "plt.plot(history.history['val_loss'])\n",
        "plt.xlabel('epoch')\n",
        "plt.ylabel('loss')\n",
        "plt.legend(['train', 'val'])\n",
        "plt.show()"
      ],
      "metadata": {
        "colab": {
          "base_uri": "https://localhost:8080/",
          "height": 279
        },
        "id": "9AebCSn1TTjR",
        "outputId": "019a76fb-d3cd-4558-80c4-e24f09a59e28"
      },
      "execution_count": 29,
      "outputs": [
        {
          "output_type": "display_data",
          "data": {
            "text/plain": [
              "<Figure size 432x288 with 1 Axes>"
            ],
            "image/png": "[encoded data removed]"
          },
          "metadata": {
            "needs_background": "light"
          }
        }
      ]
    },
    {
      "cell_type": "code",
      "source": [
        "# 단어 임베딩\n",
        "model2 = keras.Sequential()\n",
        "model2.add(keras.layers.Embedding(500, 16, input_length=100))    # 어휘 사전의 크기, 임베딩 벡터의 크기, 입력 시퀀스 길이\n",
        "model2.add(keras.layers.SimpleRNN(8))\n",
        "model2.add(keras.layers.Dense(1, activation='sigmoid'))"
      ],
      "metadata": {
        "id": "DN8myDb9U-lH"
      },
      "execution_count": 30,
      "outputs": []
    },
    {
      "cell_type": "code",
      "source": [
        "model2.summary()"
      ],
      "metadata": {
        "colab": {
          "base_uri": "https://localhost:8080/"
        },
        "id": "q5LnP_zRWNy-",
        "outputId": "60590077-59dc-4cf9-b5b1-935c8bda78b3"
      },
      "execution_count": 31,
      "outputs": [
        {
          "output_type": "stream",
          "name": "stdout",
          "text": [
            "Model: \"sequential_1\"\n",
            "_________________________________________________________________\n",
            " Layer (type)                Output Shape              Param #   \n",
            "=================================================================\n",
            " embedding (Embedding)       (None, 100, 16)           8000      \n",
            "                                                                 \n",
            " simple_rnn_1 (SimpleRNN)    (None, 8)                 200       \n",
            "                                                                 \n",
            " dense_1 (Dense)             (None, 1)                 9         \n",
            "                                                                 \n",
            "=================================================================\n",
            "Total params: 8,209\n",
            "Trainable params: 8,209\n",
            "Non-trainable params: 0\n",
            "_________________________________________________________________\n"
          ]
        }
      ]
    },
    {
      "cell_type": "code",
      "source": [
        "rmsprop = keras.optimizers.RMSprop(learning_rate=1e-4)\n",
        "\n",
        "model2.compile(optimizer=rmsprop, loss='binary_crossentropy', metrics=['accuracy'])\n",
        "checkpoint_cb = keras.callbacks.ModelCheckpoint('best-simplernn-model.h5')\n",
        "early_stopping_cb = keras.callbacks.EarlyStopping(patience=3, restore_best_weights=True)\n",
        "history = model2.fit(train_seq, train_target, epochs=100, batch_size=64, \n",
        "                    validation_data=(val_seq, val_target), \n",
        "                    callbacks=[checkpoint_cb, early_stopping_cb])"
      ],
      "metadata": {
        "colab": {
          "base_uri": "https://localhost:8080/"
        },
        "id": "B9xd6VBWW81w",
        "outputId": "6e01d639-1bec-4d75-c739-fce54112a27d"
      },
      "execution_count": 33,
      "outputs": [
        {
          "output_type": "stream",
          "name": "stdout",
          "text": [
            "Epoch 1/100\n",
            "313/313 [==============================] - 10s 27ms/step - loss: 0.6869 - accuracy: 0.5507 - val_loss: 0.6711 - val_accuracy: 0.6234\n",
            "Epoch 2/100\n",
            "313/313 [==============================] - 8s 25ms/step - loss: 0.6538 - accuracy: 0.6709 - val_loss: 0.6410 - val_accuracy: 0.7040\n",
            "Epoch 3/100\n",
            "313/313 [==============================] - 8s 25ms/step - loss: 0.6279 - accuracy: 0.7164 - val_loss: 0.6274 - val_accuracy: 0.7028\n",
            "Epoch 4/100\n",
            "313/313 [==============================] - 7s 23ms/step - loss: 0.6052 - accuracy: 0.7407 - val_loss: 0.5985 - val_accuracy: 0.7500\n",
            "Epoch 5/100\n",
            "313/313 [==============================] - 7s 24ms/step - loss: 0.5846 - accuracy: 0.7573 - val_loss: 0.5820 - val_accuracy: 0.7556\n",
            "Epoch 6/100\n",
            "313/313 [==============================] - 8s 25ms/step - loss: 0.5668 - accuracy: 0.7666 - val_loss: 0.5684 - val_accuracy: 0.7554\n",
            "Epoch 7/100\n",
            "313/313 [==============================] - 7s 23ms/step - loss: 0.5497 - accuracy: 0.7745 - val_loss: 0.5546 - val_accuracy: 0.7574\n",
            "Epoch 8/100\n",
            "313/313 [==============================] - 8s 24ms/step - loss: 0.5342 - accuracy: 0.7818 - val_loss: 0.5388 - val_accuracy: 0.7706\n",
            "Epoch 9/100\n",
            "313/313 [==============================] - 8s 25ms/step - loss: 0.5201 - accuracy: 0.7875 - val_loss: 0.5290 - val_accuracy: 0.7706\n",
            "Epoch 10/100\n",
            "313/313 [==============================] - 7s 23ms/step - loss: 0.5067 - accuracy: 0.7932 - val_loss: 0.5158 - val_accuracy: 0.7824\n",
            "Epoch 11/100\n",
            "313/313 [==============================] - 8s 26ms/step - loss: 0.4949 - accuracy: 0.7976 - val_loss: 0.5086 - val_accuracy: 0.7780\n",
            "Epoch 12/100\n",
            "313/313 [==============================] - 8s 25ms/step - loss: 0.4840 - accuracy: 0.8006 - val_loss: 0.5004 - val_accuracy: 0.7830\n",
            "Epoch 13/100\n",
            "313/313 [==============================] - 8s 27ms/step - loss: 0.4744 - accuracy: 0.8038 - val_loss: 0.4960 - val_accuracy: 0.7760\n",
            "Epoch 14/100\n",
            "313/313 [==============================] - 8s 25ms/step - loss: 0.4656 - accuracy: 0.8052 - val_loss: 0.4878 - val_accuracy: 0.7824\n",
            "Epoch 15/100\n",
            "313/313 [==============================] - 8s 24ms/step - loss: 0.4582 - accuracy: 0.8091 - val_loss: 0.4852 - val_accuracy: 0.7820\n",
            "Epoch 16/100\n",
            "313/313 [==============================] - 8s 25ms/step - loss: 0.4513 - accuracy: 0.8104 - val_loss: 0.4783 - val_accuracy: 0.7860\n",
            "Epoch 17/100\n",
            "313/313 [==============================] - 8s 25ms/step - loss: 0.4455 - accuracy: 0.8129 - val_loss: 0.4799 - val_accuracy: 0.7820\n",
            "Epoch 18/100\n",
            "313/313 [==============================] - 7s 22ms/step - loss: 0.4402 - accuracy: 0.8123 - val_loss: 0.4738 - val_accuracy: 0.7834\n",
            "Epoch 19/100\n",
            "313/313 [==============================] - 7s 24ms/step - loss: 0.4347 - accuracy: 0.8159 - val_loss: 0.4727 - val_accuracy: 0.7848\n",
            "Epoch 20/100\n",
            "313/313 [==============================] - 8s 26ms/step - loss: 0.4305 - accuracy: 0.8153 - val_loss: 0.4707 - val_accuracy: 0.7836\n",
            "Epoch 21/100\n",
            "313/313 [==============================] - 7s 23ms/step - loss: 0.4262 - accuracy: 0.8176 - val_loss: 0.4722 - val_accuracy: 0.7840\n",
            "Epoch 22/100\n",
            "313/313 [==============================] - 8s 24ms/step - loss: 0.4226 - accuracy: 0.8175 - val_loss: 0.4709 - val_accuracy: 0.7848\n",
            "Epoch 23/100\n",
            "313/313 [==============================] - 8s 24ms/step - loss: 0.4192 - accuracy: 0.8186 - val_loss: 0.4735 - val_accuracy: 0.7802\n"
          ]
        }
      ]
    },
    {
      "cell_type": "code",
      "source": [
        "plt.plot(history.history['loss'])\n",
        "plt.plot(history.history['val_loss'])\n",
        "plt.xlabel('epoch')\n",
        "plt.ylabel('loss')\n",
        "plt.legend(['train', 'val'])\n",
        "plt.show()"
      ],
      "metadata": {
        "colab": {
          "base_uri": "https://localhost:8080/",
          "height": 283
        },
        "id": "sapzymqLYA8y",
        "outputId": "f9bc985f-cc70-44f8-f114-48a0ba543c5c"
      },
      "execution_count": 34,
      "outputs": [
        {
          "output_type": "display_data",
          "data": {
            "text/plain": [
              "<Figure size 432x288 with 1 Axes>"
            ],
            "image/png": "[encoded data removed]"
          },
          "metadata": {
            "needs_background": "light"
          }
        }
      ]
    },
    {
      "cell_type": "code",
      "source": [
        ""
      ],
      "metadata": {
        "id": "d8kKAkW7YIXB"
      },
      "execution_count": null,
      "outputs": []
    }
  ]
}